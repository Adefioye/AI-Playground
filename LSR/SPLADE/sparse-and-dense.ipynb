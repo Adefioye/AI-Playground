{
 "cells": [
  {
   "cell_type": "code",
   "execution_count": 1,
   "id": "a5228b55",
   "metadata": {},
   "outputs": [
    {
     "name": "stderr",
     "output_type": "stream",
     "text": [
      "/opt/anaconda3/envs/ai-playground/lib/python3.13/site-packages/tqdm/auto.py:21: TqdmWarning: IProgress not found. Please update jupyter and ipywidgets. See https://ipywidgets.readthedocs.io/en/stable/user_install.html\n",
      "  from .autonotebook import tqdm as notebook_tqdm\n"
     ]
    }
   ],
   "source": [
    "from transformers import AutoModelForMaskedLM, AutoTokenizer\n",
    "\n",
    "model_id = 'naver/splade-cocondenser-ensembledistil'\n",
    "\n",
    "tokenizer = AutoTokenizer.from_pretrained(model_id)\n",
    "model = AutoModelForMaskedLM.from_pretrained(model_id)"
   ]
  },
  {
   "cell_type": "code",
   "execution_count": 3,
   "id": "32b580ce",
   "metadata": {},
   "outputs": [
    {
     "data": {
      "text/plain": [
       "MaskedLMOutput(loss=None, logits=tensor([[[ -5.9553,  -8.3626,  -7.5742,  ...,  -7.9341,  -7.5938,  -5.1898],\n",
       "         [ -9.6737, -10.0490,  -9.3391,  ..., -10.1951,  -9.5888,  -7.9000],\n",
       "         [ -8.2968,  -9.1556,  -8.2258,  ...,  -9.0471,  -8.1802,  -6.8503],\n",
       "         ...,\n",
       "         [ -6.2040,  -8.6663,  -8.0194,  ...,  -8.1207,  -7.8005,  -5.0678],\n",
       "         [ -7.2947,  -9.0419,  -8.0300,  ...,  -8.5999,  -8.2968,  -6.4665],\n",
       "         [-20.3195, -16.7864, -16.4392,  ..., -16.2584, -15.5940, -17.5674]]],\n",
       "       grad_fn=<ViewBackward0>), hidden_states=None, attentions=None)"
      ]
     },
     "execution_count": 3,
     "metadata": {},
     "output_type": "execute_result"
    }
   ],
   "source": [
    "text = (\n",
    "    \"Orangutans are native to the rainforests of \"\n",
    "    \"Indonesia and Malaysia\"\n",
    ")\n",
    "\n",
    "tokens = tokenizer(text, return_tensors='pt')\n",
    "output = model(**tokens)\n",
    "output"
   ]
  },
  {
   "cell_type": "code",
   "execution_count": 5,
   "id": "56f0b2fd",
   "metadata": {},
   "outputs": [
    {
     "data": {
      "text/plain": [
       "torch.Size([1, 16, 30522])"
      ]
     },
     "execution_count": 5,
     "metadata": {},
     "output_type": "execute_result"
    }
   ],
   "source": [
    "output.logits.shape  # Check the shape of the output logits"
   ]
  },
  {
   "cell_type": "code",
   "execution_count": 6,
   "id": "6856be9c",
   "metadata": {},
   "outputs": [
    {
     "data": {
      "text/plain": [
       "torch.Size([30522])"
      ]
     },
     "execution_count": 6,
     "metadata": {},
     "output_type": "execute_result"
    }
   ],
   "source": [
    "import torch\n",
    "\n",
    "vec = torch.max(\n",
    "    torch.log(\n",
    "        1 + torch.relu(output.logits)\n",
    "    ) * tokens.attention_mask.unsqueeze(-1),\n",
    "dim=1)[0].squeeze()\n",
    "\n",
    "vec.shape"
   ]
  },
  {
   "cell_type": "code",
   "execution_count": 10,
   "id": "f260bb7e",
   "metadata": {},
   "outputs": [
    {
     "data": {
      "text/plain": [
       "{2013: 0.160134419798851,\n",
       " 2024: 0.3913775384426117,\n",
       " 2027: 0.4508352279663086,\n",
       " 2030: 1.2656912803649902,\n",
       " 2078: 0.4573279917240143,\n",
       " 2141: 0.0972718670964241,\n",
       " 2179: 0.25103187561035156,\n",
       " 2314: 0.14648033678531647,\n",
       " 2427: 1.0769829750061035,\n",
       " 2444: 0.666903018951416,\n",
       " 2479: 0.18931779265403748,\n",
       " 2555: 0.07044675201177597,\n",
       " 2634: 0.3164989650249481,\n",
       " 2660: 0.11532483249902725,\n",
       " 2688: 0.26555970311164856,\n",
       " 2859: 0.40288352966308594,\n",
       " 2900: 0.12337708473205566,\n",
       " 3088: 0.6084758639335632,\n",
       " 3128: 1.4293752908706665,\n",
       " 3224: 1.1159083843231201,\n",
       " 3290: 0.01179188396781683,\n",
       " 3295: 0.6689419150352478,\n",
       " 3392: 0.2691112160682678,\n",
       " 3562: 0.29504308104515076,\n",
       " 3899: 0.016659900546073914,\n",
       " 4021: 0.42494305968284607,\n",
       " 4111: 0.2776368260383606,\n",
       " 4290: 0.10944975167512894,\n",
       " 4743: 0.31513169407844543,\n",
       " 4761: 0.8566420674324036,\n",
       " 5202: 0.16360189020633698,\n",
       " 5430: 0.2713300883769989,\n",
       " 5532: 0.14111532270908356,\n",
       " 5654: 1.554614543914795,\n",
       " 5917: 0.5991864204406738,\n",
       " 6027: 1.4550087451934814,\n",
       " 6239: 1.3707243204116821,\n",
       " 6284: 0.49122318625450134,\n",
       " 6504: 0.239033505320549,\n",
       " 6552: 1.2442671060562134,\n",
       " 6816: 0.38802409172058105,\n",
       " 7141: 0.3159817159175873,\n",
       " 7488: 0.24081803858280182,\n",
       " 7940: 0.05238977074623108,\n",
       " 8843: 0.47294965386390686,\n",
       " 9003: 0.9002321362495422,\n",
       " 9201: 0.2612394392490387,\n",
       " 9983: 0.08322935551404953,\n",
       " 10505: 0.2772558331489563,\n",
       " 10608: 0.3764156103134155,\n",
       " 10662: 0.2925048768520355,\n",
       " 10729: 0.11738517135381699,\n",
       " 10777: 0.5525892972946167,\n",
       " 11056: 0.28531017899513245,\n",
       " 11534: 0.12877622246742249,\n",
       " 11843: 0.8719963431358337,\n",
       " 11934: 0.08712591975927353,\n",
       " 12605: 0.01518781017512083,\n",
       " 12779: 0.15221503376960754,\n",
       " 13210: 1.651996374130249,\n",
       " 14947: 0.06117221713066101,\n",
       " 15018: 0.16143052279949188,\n",
       " 15688: 0.2685091495513916,\n",
       " 18951: 1.3386409282684326,\n",
       " 20222: 0.21995922923088074,\n",
       " 23957: 0.019959788769483566,\n",
       " 24091: 0.05897463858127594}"
      ]
     },
     "execution_count": 10,
     "metadata": {},
     "output_type": "execute_result"
    }
   ],
   "source": [
    "indices = vec.nonzero().squeeze().cpu().tolist() \n",
    "weights = vec[indices].cpu().tolist()\n",
    "\n",
    "sparse_vector = dict(zip(indices, weights))\n",
    "sparse_vector"
   ]
  },
  {
   "cell_type": "code",
   "execution_count": 12,
   "id": "2b82c8be",
   "metadata": {},
   "outputs": [
    {
     "data": {
      "text/plain": [
       "{'##uta': 1.65,\n",
       " '##ang': 1.55,\n",
       " 'malaysia': 1.46,\n",
       " 'native': 1.43,\n",
       " 'indonesia': 1.37,\n",
       " 'rainforest': 1.34,\n",
       " 'or': 1.27,\n",
       " 'habitat': 1.24,\n",
       " 'forest': 1.12,\n",
       " 'species': 1.08,\n",
       " 'indonesian': 0.9,\n",
       " 'malaysian': 0.87,\n",
       " 'origin': 0.86,\n",
       " 'live': 0.67,\n",
       " 'location': 0.67,\n",
       " 'africa': 0.61,\n",
       " 'tribe': 0.6,\n",
       " 'elephant': 0.55,\n",
       " 'indigenous': 0.49,\n",
       " 'breed': 0.47,\n",
       " '##n': 0.46,\n",
       " 'they': 0.45,\n",
       " 'asia': 0.42,\n",
       " 'china': 0.4,\n",
       " 'are': 0.39,\n",
       " 'tiger': 0.39,\n",
       " 'monkey': 0.38,\n",
       " 'india': 0.32,\n",
       " 'bird': 0.32,\n",
       " 'belong': 0.32,\n",
       " 'genus': 0.3,\n",
       " 'nationality': 0.29,\n",
       " 'subspecies': 0.29,\n",
       " 'animal': 0.28,\n",
       " 'geography': 0.28,\n",
       " 'museum': 0.27,\n",
       " 'tree': 0.27,\n",
       " 'cave': 0.27,\n",
       " 'borneo': 0.27,\n",
       " 'zoo': 0.26,\n",
       " 'found': 0.25,\n",
       " 'thailand': 0.24,\n",
       " 'snake': 0.24,\n",
       " 'bali': 0.22,\n",
       " 'island': 0.19,\n",
       " 'from': 0.16,\n",
       " 'dragon': 0.16,\n",
       " 'fauna': 0.16,\n",
       " 'river': 0.15,\n",
       " 'volcano': 0.15,\n",
       " 'desert': 0.14,\n",
       " 'darwin': 0.13,\n",
       " 'australia': 0.12,\n",
       " 'japan': 0.12,\n",
       " 'frog': 0.12,\n",
       " 'kong': 0.11,\n",
       " 'born': 0.1,\n",
       " 'madagascar': 0.09,\n",
       " 'continent': 0.08,\n",
       " 'region': 0.07,\n",
       " 'ancestral': 0.06,\n",
       " 'rhino': 0.06,\n",
       " 'originated': 0.05,\n",
       " 'dog': 0.02,\n",
       " 'malay': 0.02,\n",
       " 'ape': 0.02,\n",
       " 'mexico': 0.01}"
      ]
     },
     "execution_count": 12,
     "metadata": {},
     "output_type": "execute_result"
    }
   ],
   "source": [
    "# Let's get human readable plaintext tokens\n",
    "idx_to_token = {\n",
    "    idx: token for token, idx in tokenizer.get_vocab().items()\n",
    "}\n",
    "\n",
    "sparse_dict_tokens = {\n",
    "    idx_to_token[idx]: round(weight, 2) for idx, weight in sparse_vector.items()\n",
    "}\n",
    "\n",
    "# Sort the sparse vector by weights to see most relevant tokens\n",
    "sparse_dict_tokens = dict(\n",
    "    sorted(sparse_dict_tokens.items(), key=lambda item: item[1], reverse=True)\n",
    ")\n",
    "sparse_dict_tokens"
   ]
  },
  {
   "cell_type": "markdown",
   "id": "7aa0dc92",
   "metadata": {},
   "source": [
    "## Comparing vectors"
   ]
  },
  {
   "cell_type": "code",
   "execution_count": 13,
   "id": "e9db4dc7",
   "metadata": {},
   "outputs": [],
   "source": [
    "texts = [\n",
    "   \"Programmed cell death (PCD) is the regulated death of cells within an organism\",\n",
    "   \"How is the scheduled death of cells within a living thing regulated?\",\n",
    "   \"Photosynthesis is the process of storing light energy as chemical energy in cells\"\n",
    "]"
   ]
  },
  {
   "cell_type": "code",
   "execution_count": 14,
   "id": "967a5f3c",
   "metadata": {},
   "outputs": [
    {
     "data": {
      "text/plain": [
       "(3, 30522)"
      ]
     },
     "execution_count": 14,
     "metadata": {},
     "output_type": "execute_result"
    }
   ],
   "source": [
    "tokens = tokenizer(\n",
    "    texts, return_tensors='pt',\n",
    "    padding=True, truncation=True\n",
    ")\n",
    "output = model(**tokens)\n",
    "# aggregate the token-level vecs and transform to sparse\n",
    "vecs = torch.max(\n",
    "    torch.log(1 + torch.relu(output.logits)) * tokens.attention_mask.unsqueeze(-1), dim=1\n",
    ")[0].squeeze().detach().cpu().numpy()\n",
    "vecs.shape"
   ]
  },
  {
   "cell_type": "code",
   "execution_count": 20,
   "id": "073f0deb",
   "metadata": {},
   "outputs": [],
   "source": [
    "import numpy as np\n",
    "# Find the cosine similarity between the vectors\n",
    "\n",
    "sim = np.zeros((vecs.shape[0], vecs.shape[0]))\n",
    "\n",
    "for i, vec in enumerate(vecs):\n",
    "    sim[i, :] = np.dot(vec, vecs.T) / (\n",
    "        np.linalg.norm(vec) * np.linalg.norm(vecs, axis=1)\n",
    "    )   "
   ]
  },
  {
   "cell_type": "code",
   "execution_count": 21,
   "id": "c16b6f50",
   "metadata": {},
   "outputs": [
    {
     "data": {
      "text/plain": [
       "array([[0.99999988, 0.54609436, 0.20535855],\n",
       "       [0.54609436, 1.        , 0.2041188 ],\n",
       "       [0.20535856, 0.2041188 , 1.        ]])"
      ]
     },
     "execution_count": 21,
     "metadata": {},
     "output_type": "execute_result"
    }
   ],
   "source": [
    "sim"
   ]
  },
  {
   "cell_type": "code",
   "execution_count": null,
   "id": "0b36106e",
   "metadata": {},
   "outputs": [],
   "source": [
    "{\n",
    "    \"qid\": \"query_id\",\n",
    "    \"query\": \"query text\",\n",
    "    'passages':[{\"docid\": \"document_id\", \"text\": \"Document score\", \"score\": \"teacher or reranker score\"}, ...],\n",
    "}"
   ]
  },
  {
   "cell_type": "markdown",
   "id": "14a0caee",
   "metadata": {},
   "source": [
    "# Lets get dimensions of the encoded text"
   ]
  },
  {
   "cell_type": "code",
   "execution_count": 2,
   "id": "b395c056",
   "metadata": {},
   "outputs": [
    {
     "name": "stderr",
     "output_type": "stream",
     "text": [
      "<All keys matched successfully>\n"
     ]
    },
    {
     "name": "stdout",
     "output_type": "stream",
     "text": [
      "(1, 768)\n"
     ]
    }
   ],
   "source": [
    "from sentence_transformers import SentenceTransformer\n",
    "\n",
    "model = SentenceTransformer(\"nomic-ai/nomic-embed-text-v1\", trust_remote_code=True)\n",
    "sentences = ['search_query: Who is Laurens van Der Maaten?']\n",
    "embeddings = model.encode(sentences)\n",
    "print(embeddings.shape)"
   ]
  },
  {
   "cell_type": "code",
   "execution_count": 3,
   "id": "dd56ac3e",
   "metadata": {},
   "outputs": [
    {
     "name": "stderr",
     "output_type": "stream",
     "text": [
      "<All keys matched successfully>\n"
     ]
    },
    {
     "name": "stdout",
     "output_type": "stream",
     "text": [
      "(1, 768)\n"
     ]
    }
   ],
   "source": [
    "from sentence_transformers import SentenceTransformer\n",
    "\n",
    "model = SentenceTransformer(\"nomic-ai/nomic-embed-text-v1-unsupervised\", trust_remote_code=True)\n",
    "sentences = ['search_query: Who is Laurens van Der Maaten?']\n",
    "embeddings = model.encode(sentences)\n",
    "print(embeddings.shape)"
   ]
  },
  {
   "cell_type": "code",
   "execution_count": 4,
   "id": "8ddb126b",
   "metadata": {},
   "outputs": [
    {
     "name": "stdout",
     "output_type": "stream",
     "text": [
      "(1, 768)\n"
     ]
    }
   ],
   "source": [
    "from sentence_transformers import SentenceTransformer\n",
    "\n",
    "model = SentenceTransformer(\"nomic-ai/modernbert-embed-base\", trust_remote_code=True)\n",
    "sentences = ['search_query: Who is Laurens van Der Maaten?']\n",
    "embeddings = model.encode(sentences)\n",
    "print(embeddings.shape)"
   ]
  },
  {
   "cell_type": "code",
   "execution_count": 6,
   "id": "98d4392d",
   "metadata": {},
   "outputs": [
    {
     "name": "stderr",
     "output_type": "stream",
     "text": [
      "No sentence-transformers model found with name nomic-ai/modernbert-embed-base-unsupervised. Creating a new one with mean pooling.\n"
     ]
    },
    {
     "name": "stdout",
     "output_type": "stream",
     "text": [
      "(1, 768)\n"
     ]
    }
   ],
   "source": [
    "from sentence_transformers import SentenceTransformer\n",
    "\n",
    "model = SentenceTransformer(\"nomic-ai/modernbert-embed-base-unsupervised\", trust_remote_code=True)\n",
    "sentences = ['search_query: Who is Laurens van Der Maaten?']\n",
    "embeddings = model.encode(sentences)\n",
    "print(embeddings.shape)"
   ]
  },
  {
   "cell_type": "code",
   "execution_count": null,
   "id": "4782e98c",
   "metadata": {},
   "outputs": [],
   "source": []
  }
 ],
 "metadata": {
  "kernelspec": {
   "display_name": "ai-playground",
   "language": "python",
   "name": "python3"
  },
  "language_info": {
   "codemirror_mode": {
    "name": "ipython",
    "version": 3
   },
   "file_extension": ".py",
   "mimetype": "text/x-python",
   "name": "python",
   "nbconvert_exporter": "python",
   "pygments_lexer": "ipython3",
   "version": "3.13.2"
  }
 },
 "nbformat": 4,
 "nbformat_minor": 5
}
