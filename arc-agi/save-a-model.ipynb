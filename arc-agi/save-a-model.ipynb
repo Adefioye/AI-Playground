{
 "cells": [
  {
   "cell_type": "markdown",
   "id": "7c41aabe-2fb6-4ee9-97dc-e7fe1c05db18",
   "metadata": {},
   "source": [
    "## Make necessary installs"
   ]
  },
  {
   "cell_type": "code",
   "execution_count": 1,
   "id": "c99d0439-4fa0-40c0-a276-f1e3a2b3fcd0",
   "metadata": {},
   "outputs": [],
   "source": [
    "!pip install transformers --quiet\n",
    "!pip install torch --quiet  "
   ]
  },
  {
   "cell_type": "code",
   "execution_count": 2,
   "id": "aad78ecb-535c-4045-bb80-edbec9a5e5f7",
   "metadata": {},
   "outputs": [],
   "source": [
    "from transformers import AutoModelForSequenceClassification,AutoTokenizer\n",
    "import warnings, logging\n",
    "warnings.simplefilter('ignore')\n",
    "logging.disable(logging.WARNING)"
   ]
  },
  {
   "cell_type": "code",
   "execution_count": 3,
   "id": "6458306a-ca9d-4821-ad0d-f84538a7ad94",
   "metadata": {},
   "outputs": [],
   "source": [
    "model_id = \"deepseek-ai/DeepSeek-R1-Distill-Qwen-1.5B\""
   ]
  },
  {
   "cell_type": "markdown",
   "id": "3dd9aeb7-96d1-43db-9000-ac3b9282eba8",
   "metadata": {},
   "source": [
    "## Download and load a model"
   ]
  },
  {
   "cell_type": "code",
   "execution_count": 4,
   "id": "67bb12d5-8034-437e-ad2f-39a5732b64b2",
   "metadata": {},
   "outputs": [
    {
     "data": {
      "application/vnd.jupyter.widget-view+json": {
       "model_id": "df9f16516f0e4b5d825a8a792d0c0665",
       "version_major": 2,
       "version_minor": 0
      },
      "text/plain": [
       "config.json:   0%|          | 0.00/679 [00:00<?, ?B/s]"
      ]
     },
     "metadata": {},
     "output_type": "display_data"
    },
    {
     "data": {
      "application/vnd.jupyter.widget-view+json": {
       "model_id": "740726120bd34575b114c3f789de96cd",
       "version_major": 2,
       "version_minor": 0
      },
      "text/plain": [
       "model.safetensors:   0%|          | 0.00/3.55G [00:00<?, ?B/s]"
      ]
     },
     "metadata": {},
     "output_type": "display_data"
    },
    {
     "data": {
      "application/vnd.jupyter.widget-view+json": {
       "model_id": "77481be91a784a509c6abe1b03dbbfac",
       "version_major": 2,
       "version_minor": 0
      },
      "text/plain": [
       "tokenizer_config.json:   0%|          | 0.00/3.07k [00:00<?, ?B/s]"
      ]
     },
     "metadata": {},
     "output_type": "display_data"
    },
    {
     "data": {
      "application/vnd.jupyter.widget-view+json": {
       "model_id": "745d3426fbea4792920e31e84026dc2d",
       "version_major": 2,
       "version_minor": 0
      },
      "text/plain": [
       "tokenizer.json:   0%|          | 0.00/7.03M [00:00<?, ?B/s]"
      ]
     },
     "metadata": {},
     "output_type": "display_data"
    }
   ],
   "source": [
    "model = AutoModelForSequenceClassification.from_pretrained(model_id, return_dict=True)\n",
    "tokenizer = AutoTokenizer.from_pretrained(model_id)"
   ]
  },
  {
   "cell_type": "markdown",
   "id": "f3c2a22a-0979-40db-9390-1ff2c5894834",
   "metadata": {},
   "source": [
    "## Save the model"
   ]
  },
  {
   "cell_type": "code",
   "execution_count": 16,
   "id": "d917e3a5-7c73-4593-b306-ecc1cb144f22",
   "metadata": {},
   "outputs": [],
   "source": [
    "save_path = \"./arc-agi/models/DeepSeek-R1-Distill-Qwen-1.5B\""
   ]
  },
  {
   "cell_type": "code",
   "execution_count": 6,
   "id": "ca775a29-0046-4987-a845-467bfee78935",
   "metadata": {},
   "outputs": [],
   "source": [
    "!mkdir {save_path}"
   ]
  },
  {
   "cell_type": "code",
   "execution_count": 7,
   "id": "bef05b0f-4ca3-40d2-a209-6fafddb0f3f9",
   "metadata": {},
   "outputs": [
    {
     "data": {
      "text/plain": [
       "('DeepSeek-R1-Distill-Qwen-1.5B/tokenizer_config.json',\n",
       " 'DeepSeek-R1-Distill-Qwen-1.5B/special_tokens_map.json',\n",
       " 'DeepSeek-R1-Distill-Qwen-1.5B/tokenizer.json')"
      ]
     },
     "execution_count": 7,
     "metadata": {},
     "output_type": "execute_result"
    }
   ],
   "source": [
    "model.save_pretrained(save_path)\n",
    "tokenizer.save_pretrained(save_path)"
   ]
  },
  {
   "cell_type": "code",
   "execution_count": 17,
   "id": "a97c5b97-f063-4327-8c72-dbbf9cfbfa70",
   "metadata": {},
   "outputs": [
    {
     "name": "stdout",
     "output_type": "stream",
     "text": [
      "config.json                      special_tokens_map.json\n",
      "model-00001-of-00002.safetensors tokenizer.json\n",
      "model-00002-of-00002.safetensors tokenizer_config.json\n",
      "model.safetensors.index.json\n"
     ]
    }
   ],
   "source": [
    "# List files and folders in the path\n",
    "!ls {save_path}"
   ]
  },
  {
   "cell_type": "code",
   "execution_count": 18,
   "id": "0abc016f-85bc-4551-b471-d471c9d102d2",
   "metadata": {},
   "outputs": [
    {
     "name": "stdout",
     "output_type": "stream",
     "text": [
      "5.8G\t./arc-agi/models/DeepSeek-R1-Distill-Qwen-1.5B\n"
     ]
    }
   ],
   "source": [
    "# Check the size of model in the path\n",
    "!du -sh {save_path} "
   ]
  },
  {
   "cell_type": "code",
   "execution_count": null,
   "id": "f66de590-edde-415f-bd61-3c2c93a6246c",
   "metadata": {},
   "outputs": [],
   "source": []
  }
 ],
 "metadata": {
  "kernelspec": {
   "display_name": "Python 3 (ipykernel)",
   "language": "python",
   "name": "python3"
  },
  "language_info": {
   "codemirror_mode": {
    "name": "ipython",
    "version": 3
   },
   "file_extension": ".py",
   "mimetype": "text/x-python",
   "name": "python",
   "nbconvert_exporter": "python",
   "pygments_lexer": "ipython3",
   "version": "3.12.7"
  }
 },
 "nbformat": 4,
 "nbformat_minor": 5
}
