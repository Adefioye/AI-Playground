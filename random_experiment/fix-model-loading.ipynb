{
 "cells": [
  {
   "cell_type": "code",
   "execution_count": 2,
   "id": "691d67d1",
   "metadata": {},
   "outputs": [],
   "source": [
    "# Please write out code for loading and saving a hf checkpoint\n",
    "from transformers import AutoModelForCausalLM, AutoTokenizer\n",
    "import torch\n",
    "import os\n",
    "\n",
    "def save_checkpoint(model, tokenizer, save_directory):\n",
    "    if not os.path.exists(save_directory):\n",
    "        os.makedirs(save_directory)\n",
    "    \n",
    "    model.save_pretrained(save_directory)\n",
    "    tokenizer.save_pretrained(save_directory)\n",
    "    print(f\"Checkpoint saved to {save_directory}\")\n",
    "\n",
    "def load_checkpoint(load_directory):\n",
    "    model = AutoModelForCausalLM.from_pretrained(load_directory, trust_remote_code=True)\n",
    "    tokenizer = AutoTokenizer.from_pretrained(load_directory, trust_remote_code=True)\n",
    "    print(f\"Checkpoint loaded from {load_directory}\")\n",
    "    return model, tokenizer"
   ]
  },
  {
   "cell_type": "code",
   "execution_count": 2,
   "id": "dd723592",
   "metadata": {},
   "outputs": [],
   "source": [
    "#model_path = \"ChrisMcCormick/SubspaceDecoder_mha\"\n",
    "save_dir = \"./SubspaceDecoder_mha\"\n",
    "# Lets create a list of model checkpoints download into the local directory\n",
    "SOURCE_REPOS = {\n",
    "    \"ChrisMcCormick/SubspaceDecoder_mla192-96-0\":   \"mla192-96-0\",\n",
    "    \"ChrisMcCormick/SubspaceDecoder_mla192-96-192\": \"mla192-96-192\",\n",
    "    \"ChrisMcCormick/SubspaceDecoder_mla0-128-0\":    \"mla0-128-0\",\n",
    "    \"ChrisMcCormick/SubspaceDecoder_mla0-96-192\":   \"mla0-96-192\",\n",
    "    \"ChrisMcCormick/SubspaceDecoder_mla0-0-192\":    \"mla0-0-192\",\n",
    "    \"ChrisMcCormick/SubspaceDecoder_mla0-0-0\":      \"mla0-0-0\",\n",
    "    \"ChrisMcCormick/SubspaceDecoder_mla192-0-0\":    \"mla192-0-0\",   # keep if there are duplicates; remove if not needed\n",
    "}\n",
    "\n",
    "# Load model and save to the checkpoint directory using the defined functions\n",
    "# Save the loaded model and tokenizer to a local checkpoint\n",
    "# loaded_model, loaded_tokenizer = load_checkpoint(model_path)\n",
    "# save_checkpoint(loaded_model, loaded_tokenizer, save_dir)"
   ]
  },
  {
   "cell_type": "code",
   "execution_count": null,
   "id": "a5fd0e1b",
   "metadata": {},
   "outputs": [
    {
     "data": {
      "application/vnd.jupyter.widget-view+json": {
       "model_id": "f8e239a9881248e1b03c86145d4632e3",
       "version_major": 2,
       "version_minor": 0
      },
      "text/plain": [
       "Fetching 21 files:   0%|          | 0/21 [00:00<?, ?it/s]"
      ]
     },
     "metadata": {},
     "output_type": "display_data"
    },
    {
     "name": "stdout",
     "output_type": "stream",
     "text": [
      "Downloaded ChrisMcCormick/SubspaceDecoder_mla192-96-0 to /Users/abdulhakeemadefioye/Desktop/deep-learning/AI-playground/random_experiment/SubspaceDecoder_mla192-96-0\n"
     ]
    },
    {
     "data": {
      "application/vnd.jupyter.widget-view+json": {
       "model_id": "ec25a12bcecc45cba09b609798055408",
       "version_major": 2,
       "version_minor": 0
      },
      "text/plain": [
       "Fetching 13 files:   0%|          | 0/13 [00:00<?, ?it/s]"
      ]
     },
     "metadata": {},
     "output_type": "display_data"
    },
    {
     "data": {
      "application/vnd.jupyter.widget-view+json": {
       "model_id": "de5e9c741ca4403890772264d634309a",
       "version_major": 2,
       "version_minor": 0
      },
      "text/plain": [
       "special_tokens_map.json:   0%|          | 0.00/131 [00:00<?, ?B/s]"
      ]
     },
     "metadata": {},
     "output_type": "display_data"
    },
    {
     "data": {
      "application/vnd.jupyter.widget-view+json": {
       "model_id": "a53afd396eda4b67b8efb92d1335db37",
       "version_major": 2,
       "version_minor": 0
      },
      "text/plain": [
       ".gitattributes: 0.00B [00:00, ?B/s]"
      ]
     },
     "metadata": {},
     "output_type": "display_data"
    },
    {
     "data": {
      "application/vnd.jupyter.widget-view+json": {
       "model_id": "ff1f341a37fc4e7cbb7be401ab8cfee4",
       "version_major": 2,
       "version_minor": 0
      },
      "text/plain": [
       "merges.txt: 0.00B [00:00, ?B/s]"
      ]
     },
     "metadata": {},
     "output_type": "display_data"
    },
    {
     "data": {
      "application/vnd.jupyter.widget-view+json": {
       "model_id": "e597f050458241c0809da39fae0f712c",
       "version_major": 2,
       "version_minor": 0
      },
      "text/plain": [
       "pytorch_model.bin:   0%|          | 0.00/420M [00:00<?, ?B/s]"
      ]
     },
     "metadata": {},
     "output_type": "display_data"
    },
    {
     "data": {
      "application/vnd.jupyter.widget-view+json": {
       "model_id": "a70ccf827c294e0798f1d1f2bb3ade59",
       "version_major": 2,
       "version_minor": 0
      },
      "text/plain": [
       "scheduler.pt:   0%|          | 0.00/1.47k [00:00<?, ?B/s]"
      ]
     },
     "metadata": {},
     "output_type": "display_data"
    },
    {
     "data": {
      "application/vnd.jupyter.widget-view+json": {
       "model_id": "8b68d9d9fc8f4dce858c969a028d4692",
       "version_major": 2,
       "version_minor": 0
      },
      "text/plain": [
       "config.json: 0.00B [00:00, ?B/s]"
      ]
     },
     "metadata": {},
     "output_type": "display_data"
    },
    {
     "data": {
      "application/vnd.jupyter.widget-view+json": {
       "model_id": "88b787bddc46428d94301e8b3fda282f",
       "version_major": 2,
       "version_minor": 0
      },
      "text/plain": [
       "rng_state.pth:   0%|          | 0.00/14.6k [00:00<?, ?B/s]"
      ]
     },
     "metadata": {},
     "output_type": "display_data"
    },
    {
     "data": {
      "application/vnd.jupyter.widget-view+json": {
       "model_id": "9cf0f72d2aa548aaaff941ad69015f2b",
       "version_major": 2,
       "version_minor": 0
      },
      "text/plain": [
       "optimizer.pt:   0%|          | 0.00/840M [00:00<?, ?B/s]"
      ]
     },
     "metadata": {},
     "output_type": "display_data"
    },
    {
     "data": {
      "application/vnd.jupyter.widget-view+json": {
       "model_id": "23b7523fbd3446d38ed9023460d31944",
       "version_major": 2,
       "version_minor": 0
      },
      "text/plain": [
       "tokenizer.json: 0.00B [00:00, ?B/s]"
      ]
     },
     "metadata": {},
     "output_type": "display_data"
    },
    {
     "data": {
      "application/vnd.jupyter.widget-view+json": {
       "model_id": "aa7304c0907246a08319e8b3f64c39cc",
       "version_major": 2,
       "version_minor": 0
      },
      "text/plain": [
       "tokenizer_config.json:   0%|          | 0.00/507 [00:00<?, ?B/s]"
      ]
     },
     "metadata": {},
     "output_type": "display_data"
    },
    {
     "data": {
      "application/vnd.jupyter.widget-view+json": {
       "model_id": "fde614fd608345cebd754db996d24a84",
       "version_major": 2,
       "version_minor": 0
      },
      "text/plain": [
       "training_args.bin:   0%|          | 0.00/5.91k [00:00<?, ?B/s]"
      ]
     },
     "metadata": {},
     "output_type": "display_data"
    },
    {
     "data": {
      "application/vnd.jupyter.widget-view+json": {
       "model_id": "933da468061143ff91c467acfa3c6ba7",
       "version_major": 2,
       "version_minor": 0
      },
      "text/plain": [
       "trainer_state.json: 0.00B [00:00, ?B/s]"
      ]
     },
     "metadata": {},
     "output_type": "display_data"
    },
    {
     "data": {
      "application/vnd.jupyter.widget-view+json": {
       "model_id": "032c9613fe864efcbe4fb7f978e429c6",
       "version_major": 2,
       "version_minor": 0
      },
      "text/plain": [
       "vocab.json: 0.00B [00:00, ?B/s]"
      ]
     },
     "metadata": {},
     "output_type": "display_data"
    },
    {
     "name": "stdout",
     "output_type": "stream",
     "text": [
      "Downloaded ChrisMcCormick/SubspaceDecoder_mla192-96-192 to /Users/abdulhakeemadefioye/Desktop/deep-learning/AI-playground/random_experiment/SubspaceDecoder_mla192-96-192\n"
     ]
    },
    {
     "data": {
      "application/vnd.jupyter.widget-view+json": {
       "model_id": "4272dd3923de42dc89c143ee56237d4f",
       "version_major": 2,
       "version_minor": 0
      },
      "text/plain": [
       "Fetching 14 files:   0%|          | 0/14 [00:00<?, ?it/s]"
      ]
     },
     "metadata": {},
     "output_type": "display_data"
    },
    {
     "data": {
      "application/vnd.jupyter.widget-view+json": {
       "model_id": "c4f89da228f246818263e345ebacff4f",
       "version_major": 2,
       "version_minor": 0
      },
      "text/plain": [
       "pytorch_model.bin:   0%|          | 0.00/480M [00:00<?, ?B/s]"
      ]
     },
     "metadata": {},
     "output_type": "display_data"
    },
    {
     "data": {
      "application/vnd.jupyter.widget-view+json": {
       "model_id": "bd1909d2a94b42b98e551e818ed41217",
       "version_major": 2,
       "version_minor": 0
      },
      "text/plain": [
       "rng_state.pth:   0%|          | 0.00/14.6k [00:00<?, ?B/s]"
      ]
     },
     "metadata": {},
     "output_type": "display_data"
    },
    {
     "data": {
      "application/vnd.jupyter.widget-view+json": {
       "model_id": "ad09bf0025c647aa9bc7874fda8f7842",
       "version_major": 2,
       "version_minor": 0
      },
      "text/plain": [
       "optimizer.pt:   0%|          | 0.00/961M [00:00<?, ?B/s]"
      ]
     },
     "metadata": {},
     "output_type": "display_data"
    },
    {
     "data": {
      "application/vnd.jupyter.widget-view+json": {
       "model_id": "cd39d621a8414b11b28996baf10b663e",
       "version_major": 2,
       "version_minor": 0
      },
      "text/plain": [
       "scheduler.pt:   0%|          | 0.00/1.47k [00:00<?, ?B/s]"
      ]
     },
     "metadata": {},
     "output_type": "display_data"
    },
    {
     "data": {
      "application/vnd.jupyter.widget-view+json": {
       "model_id": "9f17d12a53f640e6959c81114a72b27b",
       "version_major": 2,
       "version_minor": 0
      },
      "text/plain": [
       "config.json: 0.00B [00:00, ?B/s]"
      ]
     },
     "metadata": {},
     "output_type": "display_data"
    },
    {
     "data": {
      "application/vnd.jupyter.widget-view+json": {
       "model_id": "1b4aa1aeed88465fa06cf001a5140f57",
       "version_major": 2,
       "version_minor": 0
      },
      "text/plain": [
       "full_config.json: 0.00B [00:00, ?B/s]"
      ]
     },
     "metadata": {},
     "output_type": "display_data"
    },
    {
     "data": {
      "application/vnd.jupyter.widget-view+json": {
       "model_id": "f175f56ad1e94da699c529c6b89cbb42",
       "version_major": 2,
       "version_minor": 0
      },
      "text/plain": [
       ".gitattributes: 0.00B [00:00, ?B/s]"
      ]
     },
     "metadata": {},
     "output_type": "display_data"
    },
    {
     "data": {
      "application/vnd.jupyter.widget-view+json": {
       "model_id": "368a3802528a4d5393893e2c43ba86ef",
       "version_major": 2,
       "version_minor": 0
      },
      "text/plain": [
       "special_tokens_map.json:   0%|          | 0.00/131 [00:00<?, ?B/s]"
      ]
     },
     "metadata": {},
     "output_type": "display_data"
    },
    {
     "data": {
      "application/vnd.jupyter.widget-view+json": {
       "model_id": "dc226db514ed4ea6b2b500313bb90ef3",
       "version_major": 2,
       "version_minor": 0
      },
      "text/plain": [
       "tokenizer.json: 0.00B [00:00, ?B/s]"
      ]
     },
     "metadata": {},
     "output_type": "display_data"
    },
    {
     "data": {
      "application/vnd.jupyter.widget-view+json": {
       "model_id": "e713a70cf3944b5d9b5f74851ef87af3",
       "version_major": 2,
       "version_minor": 0
      },
      "text/plain": [
       "tokenizer_config.json:   0%|          | 0.00/507 [00:00<?, ?B/s]"
      ]
     },
     "metadata": {},
     "output_type": "display_data"
    },
    {
     "data": {
      "application/vnd.jupyter.widget-view+json": {
       "model_id": "d4b367f9cda24456bce03316c7c67108",
       "version_major": 2,
       "version_minor": 0
      },
      "text/plain": [
       "training_args.bin:   0%|          | 0.00/5.91k [00:00<?, ?B/s]"
      ]
     },
     "metadata": {},
     "output_type": "display_data"
    },
    {
     "data": {
      "application/vnd.jupyter.widget-view+json": {
       "model_id": "2fb425d26a5e49108045b9f7e9c47853",
       "version_major": 2,
       "version_minor": 0
      },
      "text/plain": [
       "vocab.json: 0.00B [00:00, ?B/s]"
      ]
     },
     "metadata": {},
     "output_type": "display_data"
    },
    {
     "data": {
      "application/vnd.jupyter.widget-view+json": {
       "model_id": "cec71242e34e441b98b61e539bab4ecc",
       "version_major": 2,
       "version_minor": 0
      },
      "text/plain": [
       "trainer_state.json: 0.00B [00:00, ?B/s]"
      ]
     },
     "metadata": {},
     "output_type": "display_data"
    },
    {
     "data": {
      "application/vnd.jupyter.widget-view+json": {
       "model_id": "b3d5336572734b85a110988c1ebbbbc2",
       "version_major": 2,
       "version_minor": 0
      },
      "text/plain": [
       "merges.txt: 0.00B [00:00, ?B/s]"
      ]
     },
     "metadata": {},
     "output_type": "display_data"
    },
    {
     "name": "stdout",
     "output_type": "stream",
     "text": [
      "Downloaded ChrisMcCormick/SubspaceDecoder_mla192-0-0 to /Users/abdulhakeemadefioye/Desktop/deep-learning/AI-playground/random_experiment/SubspaceDecoder_mla192-0-0\n"
     ]
    },
    {
     "data": {
      "application/vnd.jupyter.widget-view+json": {
       "model_id": "93fb311c665541cfb45078d04bcc2f72",
       "version_major": 2,
       "version_minor": 0
      },
      "text/plain": [
       "Fetching 14 files:   0%|          | 0/14 [00:00<?, ?it/s]"
      ]
     },
     "metadata": {},
     "output_type": "display_data"
    },
    {
     "data": {
      "application/vnd.jupyter.widget-view+json": {
       "model_id": "14263b00f0414dca997d05e092765743",
       "version_major": 2,
       "version_minor": 0
      },
      "text/plain": [
       "optimizer.pt:   0%|          | 0.00/904M [00:00<?, ?B/s]"
      ]
     },
     "metadata": {},
     "output_type": "display_data"
    },
    {
     "data": {
      "application/vnd.jupyter.widget-view+json": {
       "model_id": "27d65d574d8044d38cdb707c3d73bfd5",
       "version_major": 2,
       "version_minor": 0
      },
      "text/plain": [
       "scheduler.pt:   0%|          | 0.00/1.47k [00:00<?, ?B/s]"
      ]
     },
     "metadata": {},
     "output_type": "display_data"
    },
    {
     "data": {
      "application/vnd.jupyter.widget-view+json": {
       "model_id": "82b095690444461182fb54aece185c36",
       "version_major": 2,
       "version_minor": 0
      },
      "text/plain": [
       "rng_state.pth:   0%|          | 0.00/14.6k [00:00<?, ?B/s]"
      ]
     },
     "metadata": {},
     "output_type": "display_data"
    },
    {
     "data": {
      "application/vnd.jupyter.widget-view+json": {
       "model_id": "03afc68eff6e4578afe14702f4ce03cd",
       "version_major": 2,
       "version_minor": 0
      },
      "text/plain": [
       "pytorch_model.bin:   0%|          | 0.00/452M [00:00<?, ?B/s]"
      ]
     },
     "metadata": {},
     "output_type": "display_data"
    },
    {
     "data": {
      "application/vnd.jupyter.widget-view+json": {
       "model_id": "729ab62aa4c146cf8081e50fa448594b",
       "version_major": 2,
       "version_minor": 0
      },
      "text/plain": [
       "merges.txt: 0.00B [00:00, ?B/s]"
      ]
     },
     "metadata": {},
     "output_type": "display_data"
    },
    {
     "data": {
      "application/vnd.jupyter.widget-view+json": {
       "model_id": "91db2cae002b467a89a21fc49ab9c021",
       "version_major": 2,
       "version_minor": 0
      },
      "text/plain": [
       "full_config.json: 0.00B [00:00, ?B/s]"
      ]
     },
     "metadata": {},
     "output_type": "display_data"
    },
    {
     "data": {
      "application/vnd.jupyter.widget-view+json": {
       "model_id": "32dc831810254eaca0cc619bdf70f5b2",
       "version_major": 2,
       "version_minor": 0
      },
      "text/plain": [
       "config.json: 0.00B [00:00, ?B/s]"
      ]
     },
     "metadata": {},
     "output_type": "display_data"
    },
    {
     "data": {
      "application/vnd.jupyter.widget-view+json": {
       "model_id": "59c977ed739848a982357254ec3a8dda",
       "version_major": 2,
       "version_minor": 0
      },
      "text/plain": [
       "special_tokens_map.json:   0%|          | 0.00/131 [00:00<?, ?B/s]"
      ]
     },
     "metadata": {},
     "output_type": "display_data"
    },
    {
     "data": {
      "application/vnd.jupyter.widget-view+json": {
       "model_id": "badcaeb3534b43ff9ed555e592689e34",
       "version_major": 2,
       "version_minor": 0
      },
      "text/plain": [
       ".gitattributes: 0.00B [00:00, ?B/s]"
      ]
     },
     "metadata": {},
     "output_type": "display_data"
    },
    {
     "data": {
      "application/vnd.jupyter.widget-view+json": {
       "model_id": "d02109fe39744fb8a941842a528126fb",
       "version_major": 2,
       "version_minor": 0
      },
      "text/plain": [
       "tokenizer.json: 0.00B [00:00, ?B/s]"
      ]
     },
     "metadata": {},
     "output_type": "display_data"
    },
    {
     "data": {
      "application/vnd.jupyter.widget-view+json": {
       "model_id": "b45eb1a19b2e491398e2d701e6ef6027",
       "version_major": 2,
       "version_minor": 0
      },
      "text/plain": [
       "tokenizer_config.json:   0%|          | 0.00/507 [00:00<?, ?B/s]"
      ]
     },
     "metadata": {},
     "output_type": "display_data"
    },
    {
     "data": {
      "application/vnd.jupyter.widget-view+json": {
       "model_id": "1c1f6835cbc449fa9fdbcd70dd74f9e8",
       "version_major": 2,
       "version_minor": 0
      },
      "text/plain": [
       "trainer_state.json: 0.00B [00:00, ?B/s]"
      ]
     },
     "metadata": {},
     "output_type": "display_data"
    },
    {
     "data": {
      "application/vnd.jupyter.widget-view+json": {
       "model_id": "5de7e2ea27f24e28b8cbb2ce52c879ba",
       "version_major": 2,
       "version_minor": 0
      },
      "text/plain": [
       "training_args.bin:   0%|          | 0.00/5.91k [00:00<?, ?B/s]"
      ]
     },
     "metadata": {},
     "output_type": "display_data"
    },
    {
     "data": {
      "application/vnd.jupyter.widget-view+json": {
       "model_id": "98af6adb1acb448d92f99dc6cb972488",
       "version_major": 2,
       "version_minor": 0
      },
      "text/plain": [
       "vocab.json: 0.00B [00:00, ?B/s]"
      ]
     },
     "metadata": {},
     "output_type": "display_data"
    },
    {
     "name": "stdout",
     "output_type": "stream",
     "text": [
      "Downloaded ChrisMcCormick/SubspaceDecoder_mla0-128-0 to /Users/abdulhakeemadefioye/Desktop/deep-learning/AI-playground/random_experiment/SubspaceDecoder_mla0-128-0\n"
     ]
    },
    {
     "data": {
      "application/vnd.jupyter.widget-view+json": {
       "model_id": "6c412f28157a418a98e31ace67a7bfdf",
       "version_major": 2,
       "version_minor": 0
      },
      "text/plain": [
       "Fetching 14 files:   0%|          | 0/14 [00:00<?, ?it/s]"
      ]
     },
     "metadata": {},
     "output_type": "display_data"
    },
    {
     "data": {
      "application/vnd.jupyter.widget-view+json": {
       "model_id": "cbe8be7dd6224065bf82ee444c5a02b1",
       "version_major": 2,
       "version_minor": 0
      },
      "text/plain": [
       "pytorch_model.bin:   0%|          | 0.00/434M [00:00<?, ?B/s]"
      ]
     },
     "metadata": {},
     "output_type": "display_data"
    },
    {
     "data": {
      "application/vnd.jupyter.widget-view+json": {
       "model_id": "477cc03f9f51433cba3b2370bba398e7",
       "version_major": 2,
       "version_minor": 0
      },
      "text/plain": [
       "optimizer.pt:   0%|          | 0.00/869M [00:00<?, ?B/s]"
      ]
     },
     "metadata": {},
     "output_type": "display_data"
    },
    {
     "data": {
      "application/vnd.jupyter.widget-view+json": {
       "model_id": "2502d1ebd6184a35becc3b0673bfecd7",
       "version_major": 2,
       "version_minor": 0
      },
      "text/plain": [
       "scheduler.pt:   0%|          | 0.00/1.47k [00:00<?, ?B/s]"
      ]
     },
     "metadata": {},
     "output_type": "display_data"
    },
    {
     "data": {
      "application/vnd.jupyter.widget-view+json": {
       "model_id": "0fc3bd0a2d7247efbb0f8a798cac65a1",
       "version_major": 2,
       "version_minor": 0
      },
      "text/plain": [
       "rng_state.pth:   0%|          | 0.00/14.6k [00:00<?, ?B/s]"
      ]
     },
     "metadata": {},
     "output_type": "display_data"
    },
    {
     "data": {
      "application/vnd.jupyter.widget-view+json": {
       "model_id": "fde4a0f653ab4e3cb30d956b3d137129",
       "version_major": 2,
       "version_minor": 0
      },
      "text/plain": [
       "merges.txt: 0.00B [00:00, ?B/s]"
      ]
     },
     "metadata": {},
     "output_type": "display_data"
    },
    {
     "data": {
      "application/vnd.jupyter.widget-view+json": {
       "model_id": "7adb6d5f287c40fc85ebc62ce6798dd4",
       "version_major": 2,
       "version_minor": 0
      },
      "text/plain": [
       ".gitattributes: 0.00B [00:00, ?B/s]"
      ]
     },
     "metadata": {},
     "output_type": "display_data"
    },
    {
     "data": {
      "application/vnd.jupyter.widget-view+json": {
       "model_id": "e9261d27fd384d5f9787b176e5616570",
       "version_major": 2,
       "version_minor": 0
      },
      "text/plain": [
       "config.json: 0.00B [00:00, ?B/s]"
      ]
     },
     "metadata": {},
     "output_type": "display_data"
    },
    {
     "data": {
      "application/vnd.jupyter.widget-view+json": {
       "model_id": "9899393e5d224e37996dca5b4be186c7",
       "version_major": 2,
       "version_minor": 0
      },
      "text/plain": [
       "README.md:   0%|          | 0.00/24.0 [00:00<?, ?B/s]"
      ]
     },
     "metadata": {},
     "output_type": "display_data"
    },
    {
     "data": {
      "application/vnd.jupyter.widget-view+json": {
       "model_id": "89bffce467254c189d02faf4f41aa4cb",
       "version_major": 2,
       "version_minor": 0
      },
      "text/plain": [
       "special_tokens_map.json:   0%|          | 0.00/131 [00:00<?, ?B/s]"
      ]
     },
     "metadata": {},
     "output_type": "display_data"
    },
    {
     "data": {
      "application/vnd.jupyter.widget-view+json": {
       "model_id": "b711229b7b6845ca8d7bce1c627e2fc1",
       "version_major": 2,
       "version_minor": 0
      },
      "text/plain": [
       "tokenizer.json: 0.00B [00:00, ?B/s]"
      ]
     },
     "metadata": {},
     "output_type": "display_data"
    },
    {
     "data": {
      "application/vnd.jupyter.widget-view+json": {
       "model_id": "993986456be5419d97f9ecaf98156feb",
       "version_major": 2,
       "version_minor": 0
      },
      "text/plain": [
       "tokenizer_config.json:   0%|          | 0.00/507 [00:00<?, ?B/s]"
      ]
     },
     "metadata": {},
     "output_type": "display_data"
    },
    {
     "data": {
      "application/vnd.jupyter.widget-view+json": {
       "model_id": "50bcb49a1ded46338adff24c9a5879e0",
       "version_major": 2,
       "version_minor": 0
      },
      "text/plain": [
       "trainer_state.json: 0.00B [00:00, ?B/s]"
      ]
     },
     "metadata": {},
     "output_type": "display_data"
    },
    {
     "data": {
      "application/vnd.jupyter.widget-view+json": {
       "model_id": "ec0cc213cfb747dd8f8513f8261eeac0",
       "version_major": 2,
       "version_minor": 0
      },
      "text/plain": [
       "training_args.bin:   0%|          | 0.00/5.91k [00:00<?, ?B/s]"
      ]
     },
     "metadata": {},
     "output_type": "display_data"
    },
    {
     "data": {
      "application/vnd.jupyter.widget-view+json": {
       "model_id": "ad99310e3f914c8189c9e2c42c912034",
       "version_major": 2,
       "version_minor": 0
      },
      "text/plain": [
       "vocab.json: 0.00B [00:00, ?B/s]"
      ]
     },
     "metadata": {},
     "output_type": "display_data"
    },
    {
     "name": "stdout",
     "output_type": "stream",
     "text": [
      "Downloaded ChrisMcCormick/SubspaceDecoder_mla0-96-192 to /Users/abdulhakeemadefioye/Desktop/deep-learning/AI-playground/random_experiment/SubspaceDecoder_mla0-96-192\n"
     ]
    },
    {
     "data": {
      "application/vnd.jupyter.widget-view+json": {
       "model_id": "df4b1ed19030460d9aecb4a02ef54881",
       "version_major": 2,
       "version_minor": 0
      },
      "text/plain": [
       "Fetching 13 files:   0%|          | 0/13 [00:00<?, ?it/s]"
      ]
     },
     "metadata": {},
     "output_type": "display_data"
    },
    {
     "data": {
      "application/vnd.jupyter.widget-view+json": {
       "model_id": "bf91c2b3e8f54ee9ad77388b5eb638b5",
       "version_major": 2,
       "version_minor": 0
      },
      "text/plain": [
       "pytorch_model.bin:   0%|          | 0.00/480M [00:00<?, ?B/s]"
      ]
     },
     "metadata": {},
     "output_type": "display_data"
    },
    {
     "data": {
      "application/vnd.jupyter.widget-view+json": {
       "model_id": "632be39f49184dc194a1e0dd7c762d9a",
       "version_major": 2,
       "version_minor": 0
      },
      "text/plain": [
       "rng_state.pth:   0%|          | 0.00/14.6k [00:00<?, ?B/s]"
      ]
     },
     "metadata": {},
     "output_type": "display_data"
    },
    {
     "data": {
      "application/vnd.jupyter.widget-view+json": {
       "model_id": "f4a9e9dfb55e4771b668404f42b4c7c7",
       "version_major": 2,
       "version_minor": 0
      },
      "text/plain": [
       "optimizer.pt:   0%|          | 0.00/961M [00:00<?, ?B/s]"
      ]
     },
     "metadata": {},
     "output_type": "display_data"
    },
    {
     "data": {
      "application/vnd.jupyter.widget-view+json": {
       "model_id": "f474d5963a55472cb68c4e1912239f02",
       "version_major": 2,
       "version_minor": 0
      },
      "text/plain": [
       "scheduler.pt:   0%|          | 0.00/1.47k [00:00<?, ?B/s]"
      ]
     },
     "metadata": {},
     "output_type": "display_data"
    },
    {
     "data": {
      "application/vnd.jupyter.widget-view+json": {
       "model_id": "aed6f22edf26402da675f9e519ec64c8",
       "version_major": 2,
       "version_minor": 0
      },
      "text/plain": [
       "special_tokens_map.json:   0%|          | 0.00/131 [00:00<?, ?B/s]"
      ]
     },
     "metadata": {},
     "output_type": "display_data"
    },
    {
     "data": {
      "application/vnd.jupyter.widget-view+json": {
       "model_id": "088c370019e94290a258ef0dba3854f6",
       "version_major": 2,
       "version_minor": 0
      },
      "text/plain": [
       "merges.txt: 0.00B [00:00, ?B/s]"
      ]
     },
     "metadata": {},
     "output_type": "display_data"
    },
    {
     "data": {
      "application/vnd.jupyter.widget-view+json": {
       "model_id": "a99ecce423404662bf2ce62733bab942",
       "version_major": 2,
       "version_minor": 0
      },
      "text/plain": [
       ".gitattributes: 0.00B [00:00, ?B/s]"
      ]
     },
     "metadata": {},
     "output_type": "display_data"
    },
    {
     "data": {
      "application/vnd.jupyter.widget-view+json": {
       "model_id": "25c247ea7aef4a15b588916e79681f32",
       "version_major": 2,
       "version_minor": 0
      },
      "text/plain": [
       "config.json: 0.00B [00:00, ?B/s]"
      ]
     },
     "metadata": {},
     "output_type": "display_data"
    },
    {
     "data": {
      "application/vnd.jupyter.widget-view+json": {
       "model_id": "9509626e5d25499687fd76b4aab67357",
       "version_major": 2,
       "version_minor": 0
      },
      "text/plain": [
       "tokenizer_config.json:   0%|          | 0.00/507 [00:00<?, ?B/s]"
      ]
     },
     "metadata": {},
     "output_type": "display_data"
    },
    {
     "data": {
      "application/vnd.jupyter.widget-view+json": {
       "model_id": "8dab4d1ad89a494296c43625ed97f53d",
       "version_major": 2,
       "version_minor": 0
      },
      "text/plain": [
       "tokenizer.json: 0.00B [00:00, ?B/s]"
      ]
     },
     "metadata": {},
     "output_type": "display_data"
    },
    {
     "data": {
      "application/vnd.jupyter.widget-view+json": {
       "model_id": "50130eaf27c842918b3b41cb33c79cf5",
       "version_major": 2,
       "version_minor": 0
      },
      "text/plain": [
       "training_args.bin:   0%|          | 0.00/5.91k [00:00<?, ?B/s]"
      ]
     },
     "metadata": {},
     "output_type": "display_data"
    },
    {
     "data": {
      "application/vnd.jupyter.widget-view+json": {
       "model_id": "60369b4c9e424af1b0034a2ca626c17d",
       "version_major": 2,
       "version_minor": 0
      },
      "text/plain": [
       "trainer_state.json: 0.00B [00:00, ?B/s]"
      ]
     },
     "metadata": {},
     "output_type": "display_data"
    },
    {
     "data": {
      "application/vnd.jupyter.widget-view+json": {
       "model_id": "966cf27cce9d4bbca00f050f7d92a0a4",
       "version_major": 2,
       "version_minor": 0
      },
      "text/plain": [
       "vocab.json: 0.00B [00:00, ?B/s]"
      ]
     },
     "metadata": {},
     "output_type": "display_data"
    },
    {
     "name": "stdout",
     "output_type": "stream",
     "text": [
      "Downloaded ChrisMcCormick/SubspaceDecoder_mla0-0-192 to /Users/abdulhakeemadefioye/Desktop/deep-learning/AI-playground/random_experiment/SubspaceDecoder_mla0-0-192\n"
     ]
    },
    {
     "data": {
      "application/vnd.jupyter.widget-view+json": {
       "model_id": "7f964f9b855c464a9cc577da111ec1d6",
       "version_major": 2,
       "version_minor": 0
      },
      "text/plain": [
       "Fetching 27 files:   0%|          | 0/27 [00:00<?, ?it/s]"
      ]
     },
     "metadata": {},
     "output_type": "display_data"
    },
    {
     "data": {
      "application/vnd.jupyter.widget-view+json": {
       "model_id": "f86f4ead8afb4b1a91d512645d4f462a",
       "version_major": 2,
       "version_minor": 0
      },
      "text/plain": [
       "pytorch_model.bin:   0%|          | 0.00/494M [00:00<?, ?B/s]"
      ]
     },
     "metadata": {},
     "output_type": "display_data"
    },
    {
     "data": {
      "application/vnd.jupyter.widget-view+json": {
       "model_id": "f2c6e461fe5c49078ff00810864095c2",
       "version_major": 2,
       "version_minor": 0
      },
      "text/plain": [
       "scheduler.pt:   0%|          | 0.00/1.47k [00:00<?, ?B/s]"
      ]
     },
     "metadata": {},
     "output_type": "display_data"
    },
    {
     "data": {
      "application/vnd.jupyter.widget-view+json": {
       "model_id": "789276464d9144bc978c34cd1f4351f1",
       "version_major": 2,
       "version_minor": 0
      },
      "text/plain": [
       "rng_state.pth:   0%|          | 0.00/14.6k [00:00<?, ?B/s]"
      ]
     },
     "metadata": {},
     "output_type": "display_data"
    },
    {
     "data": {
      "application/vnd.jupyter.widget-view+json": {
       "model_id": "64ddf3f16e904ef1bdb3c8c9a4261d47",
       "version_major": 2,
       "version_minor": 0
      },
      "text/plain": [
       "optimizer.pt:   0%|          | 0.00/989M [00:00<?, ?B/s]"
      ]
     },
     "metadata": {},
     "output_type": "display_data"
    },
    {
     "data": {
      "application/vnd.jupyter.widget-view+json": {
       "model_id": "1a8f5e8a926d4b94947210c7628592d8",
       "version_major": 2,
       "version_minor": 0
      },
      "text/plain": [
       "merges.txt: 0.00B [00:00, ?B/s]"
      ]
     },
     "metadata": {},
     "output_type": "display_data"
    },
    {
     "data": {
      "application/vnd.jupyter.widget-view+json": {
       "model_id": "efe185b6c1f042328760b88745d27955",
       "version_major": 2,
       "version_minor": 0
      },
      "text/plain": [
       "config.json: 0.00B [00:00, ?B/s]"
      ]
     },
     "metadata": {},
     "output_type": "display_data"
    },
    {
     "data": {
      "application/vnd.jupyter.widget-view+json": {
       "model_id": "72754031e17448d889fc44a061cf914b",
       "version_major": 2,
       "version_minor": 0
      },
      "text/plain": [
       ".gitattributes: 0.00B [00:00, ?B/s]"
      ]
     },
     "metadata": {},
     "output_type": "display_data"
    },
    {
     "data": {
      "application/vnd.jupyter.widget-view+json": {
       "model_id": "4a5ee6f5602f488898fcea1799b52903",
       "version_major": 2,
       "version_minor": 0
      },
      "text/plain": [
       "tokenizer.json: 0.00B [00:00, ?B/s]"
      ]
     },
     "metadata": {},
     "output_type": "display_data"
    },
    {
     "data": {
      "application/vnd.jupyter.widget-view+json": {
       "model_id": "c260aa1ddf2d406796443556d59f21e1",
       "version_major": 2,
       "version_minor": 0
      },
      "text/plain": [
       "special_tokens_map.json:   0%|          | 0.00/131 [00:00<?, ?B/s]"
      ]
     },
     "metadata": {},
     "output_type": "display_data"
    },
    {
     "data": {
      "application/vnd.jupyter.widget-view+json": {
       "model_id": "8d547e25ce134130bc40adb8dbb1c482",
       "version_major": 2,
       "version_minor": 0
      },
      "text/plain": [
       "training_args.bin:   0%|          | 0.00/5.91k [00:00<?, ?B/s]"
      ]
     },
     "metadata": {},
     "output_type": "display_data"
    },
    {
     "data": {
      "application/vnd.jupyter.widget-view+json": {
       "model_id": "f4ff9c7855d24b4cb44fdbf080cdb328",
       "version_major": 2,
       "version_minor": 0
      },
      "text/plain": [
       "tokenizer_config.json:   0%|          | 0.00/507 [00:00<?, ?B/s]"
      ]
     },
     "metadata": {},
     "output_type": "display_data"
    },
    {
     "data": {
      "application/vnd.jupyter.widget-view+json": {
       "model_id": "51ddd455b24b46aaa8b2712729c5e039",
       "version_major": 2,
       "version_minor": 0
      },
      "text/plain": [
       "trainer_state.json: 0.00B [00:00, ?B/s]"
      ]
     },
     "metadata": {},
     "output_type": "display_data"
    },
    {
     "data": {
      "application/vnd.jupyter.widget-view+json": {
       "model_id": "cef446dcdd4b43a2913f293815ac183b",
       "version_major": 2,
       "version_minor": 0
      },
      "text/plain": [
       "config.json: 0.00B [00:00, ?B/s]"
      ]
     },
     "metadata": {},
     "output_type": "display_data"
    },
    {
     "data": {
      "application/vnd.jupyter.widget-view+json": {
       "model_id": "18b96aadad9e402da1e53b50beec7640",
       "version_major": 2,
       "version_minor": 0
      },
      "text/plain": [
       "merges.txt: 0.00B [00:00, ?B/s]"
      ]
     },
     "metadata": {},
     "output_type": "display_data"
    },
    {
     "data": {
      "application/vnd.jupyter.widget-view+json": {
       "model_id": "fffb094e2ef24d6f9af63feb70346bb0",
       "version_major": 2,
       "version_minor": 0
      },
      "text/plain": [
       "vocab.json: 0.00B [00:00, ?B/s]"
      ]
     },
     "metadata": {},
     "output_type": "display_data"
    },
    {
     "data": {
      "application/vnd.jupyter.widget-view+json": {
       "model_id": "d57cca0d38c24b57890a0ff7023027c8",
       "version_major": 2,
       "version_minor": 0
      },
      "text/plain": [
       "README.md:   0%|          | 0.00/24.0 [00:00<?, ?B/s]"
      ]
     },
     "metadata": {},
     "output_type": "display_data"
    },
    {
     "data": {
      "application/vnd.jupyter.widget-view+json": {
       "model_id": "c57fed6160cb4289ba60c65d31455469",
       "version_major": 2,
       "version_minor": 0
      },
      "text/plain": [
       "optimizer.pt:   0%|          | 0.00/989M [00:00<?, ?B/s]"
      ]
     },
     "metadata": {},
     "output_type": "display_data"
    },
    {
     "data": {
      "application/vnd.jupyter.widget-view+json": {
       "model_id": "b784ba7750cb4a7095783ae3ee5a22ab",
       "version_major": 2,
       "version_minor": 0
      },
      "text/plain": [
       "pytorch_model.bin:   0%|          | 0.00/494M [00:00<?, ?B/s]"
      ]
     },
     "metadata": {},
     "output_type": "display_data"
    },
    {
     "data": {
      "application/vnd.jupyter.widget-view+json": {
       "model_id": "6ffaebf0852a4e30810d63aa37c913fa",
       "version_major": 2,
       "version_minor": 0
      },
      "text/plain": [
       "scheduler.pt:   0%|          | 0.00/1.47k [00:00<?, ?B/s]"
      ]
     },
     "metadata": {},
     "output_type": "display_data"
    },
    {
     "data": {
      "application/vnd.jupyter.widget-view+json": {
       "model_id": "fe49b3b0170a43ee8bede1c9316c3fee",
       "version_major": 2,
       "version_minor": 0
      },
      "text/plain": [
       "rng_state.pth:   0%|          | 0.00/14.6k [00:00<?, ?B/s]"
      ]
     },
     "metadata": {},
     "output_type": "display_data"
    },
    {
     "data": {
      "application/vnd.jupyter.widget-view+json": {
       "model_id": "98f1088f3a944eccbcb05530a787ed7f",
       "version_major": 2,
       "version_minor": 0
      },
      "text/plain": [
       "special_tokens_map.json:   0%|          | 0.00/131 [00:00<?, ?B/s]"
      ]
     },
     "metadata": {},
     "output_type": "display_data"
    },
    {
     "data": {
      "application/vnd.jupyter.widget-view+json": {
       "model_id": "e0b39ccb91ce41f29801754f67c82248",
       "version_major": 2,
       "version_minor": 0
      },
      "text/plain": [
       "training_args.bin:   0%|          | 0.00/5.91k [00:00<?, ?B/s]"
      ]
     },
     "metadata": {},
     "output_type": "display_data"
    },
    {
     "data": {
      "application/vnd.jupyter.widget-view+json": {
       "model_id": "5dafb556256a4550932a809f7973a379",
       "version_major": 2,
       "version_minor": 0
      },
      "text/plain": [
       "tokenizer.json: 0.00B [00:00, ?B/s]"
      ]
     },
     "metadata": {},
     "output_type": "display_data"
    },
    {
     "data": {
      "application/vnd.jupyter.widget-view+json": {
       "model_id": "01296a73154a452782c1aa66b32ab9c4",
       "version_major": 2,
       "version_minor": 0
      },
      "text/plain": [
       "tokenizer_config.json:   0%|          | 0.00/507 [00:00<?, ?B/s]"
      ]
     },
     "metadata": {},
     "output_type": "display_data"
    },
    {
     "data": {
      "application/vnd.jupyter.widget-view+json": {
       "model_id": "f0cef972eb6b49e29d102f46f0797f33",
       "version_major": 2,
       "version_minor": 0
      },
      "text/plain": [
       "trainer_state.json: 0.00B [00:00, ?B/s]"
      ]
     },
     "metadata": {},
     "output_type": "display_data"
    },
    {
     "data": {
      "application/vnd.jupyter.widget-view+json": {
       "model_id": "2baf9f2cb00248fdb69c812d86a8d8e1",
       "version_major": 2,
       "version_minor": 0
      },
      "text/plain": [
       "vocab.json: 0.00B [00:00, ?B/s]"
      ]
     },
     "metadata": {},
     "output_type": "display_data"
    },
    {
     "data": {
      "application/vnd.jupyter.widget-view+json": {
       "model_id": "55b433e373694b24b6925f0d82fe63a8",
       "version_major": 2,
       "version_minor": 0
      },
      "text/plain": [
       "full_config.json: 0.00B [00:00, ?B/s]"
      ]
     },
     "metadata": {},
     "output_type": "display_data"
    },
    {
     "name": "stdout",
     "output_type": "stream",
     "text": [
      "Downloaded ChrisMcCormick/SubspaceDecoder_mla0-0-0 to /Users/abdulhakeemadefioye/Desktop/deep-learning/AI-playground/random_experiment/SubspaceDecoder_mla0-0-0\n"
     ]
    }
   ],
   "source": [
    "# Load model using huggingface_hub\n",
    "from huggingface_hub import snapshot_download\n",
    "\n",
    "# Iterate through the SOURCE_REPOS dictionary to download and save each model\n",
    "# for repo_id, _ in SOURCE_REPOS.items():\n",
    "#     save_dir = f\"./{repo_id.split('/')[-1]}\"\n",
    "#     local_dir = snapshot_download(\n",
    "#         repo_id=repo_id,  # the repo you want to download\n",
    "#         repo_type=\"model\",          # default is \"model\"\n",
    "#         revision=\"main\",            # branch, tag or commit hash\n",
    "#         local_dir=save_dir,\n",
    "#     )\n",
    "#     print(f\"Downloaded {repo_id} to {local_dir}\")"
   ]
  },
  {
   "cell_type": "code",
   "execution_count": 13,
   "id": "8e02c780",
   "metadata": {},
   "outputs": [
    {
     "name": "stdout",
     "output_type": "stream",
     "text": [
      "config.q_shared_dim None\n",
      "Using identity for shared projection.\n",
      "config.q_shared_dim None\n",
      "Using identity for shared projection.\n",
      "config.q_shared_dim None\n",
      "Using identity for shared projection.\n",
      "config.q_shared_dim None\n",
      "Using identity for shared projection.\n",
      "config.q_shared_dim None\n",
      "Using identity for shared projection.\n",
      "config.q_shared_dim None\n",
      "Using identity for shared projection.\n",
      "config.q_shared_dim None\n",
      "Using identity for shared projection.\n",
      "config.q_shared_dim None\n",
      "Using identity for shared projection.\n",
      "config.q_shared_dim None\n",
      "Using identity for shared projection.\n",
      "config.q_shared_dim None\n",
      "Using identity for shared projection.\n",
      "config.q_shared_dim None\n",
      "Using identity for shared projection.\n",
      "config.q_shared_dim None\n",
      "Using identity for shared projection.\n",
      "Checkpoint loaded from kokolamba/SubspaceDecoder_mha\n"
     ]
    }
   ],
   "source": [
    "# Lets now load the model from the local directory\n",
    "kokolamba_model_path = \"kokolamba/SubspaceDecoder_mha\"\n",
    "model, tokenizer = load_checkpoint(kokolamba_model_path)"
   ]
  },
  {
   "cell_type": "code",
   "execution_count": 3,
   "id": "e7791ce4",
   "metadata": {},
   "outputs": [],
   "source": [
    "#!python load_custom_model.py\n",
    "# !pip install ipywidgets"
   ]
  },
  {
   "cell_type": "code",
   "execution_count": 17,
   "id": "f544219d",
   "metadata": {},
   "outputs": [
    {
     "name": "stdout",
     "output_type": "stream",
     "text": [
      "Copied ./SubspaceDecoder_mha/shared_space_decoder.py to ./SubspaceDecoder_mla192-96-0/shared_space_decoder.py\n",
      "Copied ./SubspaceDecoder_mha/shared_space_config.py to ./SubspaceDecoder_mla192-96-0/shared_space_config.py\n",
      "Copied ./SubspaceDecoder_mha/gla.py to ./SubspaceDecoder_mla192-96-0/gla.py\n",
      "Copied ./SubspaceDecoder_mha/mla.py to ./SubspaceDecoder_mla192-96-0/mla.py\n",
      "Copied ./SubspaceDecoder_mha/feedforward.py to ./SubspaceDecoder_mla192-96-0/feedforward.py\n",
      "Copied ./SubspaceDecoder_mha/task_heads.py to ./SubspaceDecoder_mla192-96-0/task_heads.py\n",
      "Copied ./SubspaceDecoder_mha/shared_space_decoder.py to ./SubspaceDecoder_mla192-96-192/shared_space_decoder.py\n",
      "Copied ./SubspaceDecoder_mha/shared_space_config.py to ./SubspaceDecoder_mla192-96-192/shared_space_config.py\n",
      "Copied ./SubspaceDecoder_mha/gla.py to ./SubspaceDecoder_mla192-96-192/gla.py\n",
      "Copied ./SubspaceDecoder_mha/mla.py to ./SubspaceDecoder_mla192-96-192/mla.py\n",
      "Copied ./SubspaceDecoder_mha/feedforward.py to ./SubspaceDecoder_mla192-96-192/feedforward.py\n",
      "Copied ./SubspaceDecoder_mha/task_heads.py to ./SubspaceDecoder_mla192-96-192/task_heads.py\n",
      "Copied ./SubspaceDecoder_mha/shared_space_decoder.py to ./SubspaceDecoder_mla192-0-0/shared_space_decoder.py\n",
      "Copied ./SubspaceDecoder_mha/shared_space_config.py to ./SubspaceDecoder_mla192-0-0/shared_space_config.py\n",
      "Copied ./SubspaceDecoder_mha/gla.py to ./SubspaceDecoder_mla192-0-0/gla.py\n",
      "Copied ./SubspaceDecoder_mha/mla.py to ./SubspaceDecoder_mla192-0-0/mla.py\n",
      "Copied ./SubspaceDecoder_mha/feedforward.py to ./SubspaceDecoder_mla192-0-0/feedforward.py\n",
      "Copied ./SubspaceDecoder_mha/task_heads.py to ./SubspaceDecoder_mla192-0-0/task_heads.py\n",
      "Copied ./SubspaceDecoder_mha/shared_space_decoder.py to ./SubspaceDecoder_mla0-128-0/shared_space_decoder.py\n",
      "Copied ./SubspaceDecoder_mha/shared_space_config.py to ./SubspaceDecoder_mla0-128-0/shared_space_config.py\n",
      "Copied ./SubspaceDecoder_mha/gla.py to ./SubspaceDecoder_mla0-128-0/gla.py\n",
      "Copied ./SubspaceDecoder_mha/mla.py to ./SubspaceDecoder_mla0-128-0/mla.py\n",
      "Copied ./SubspaceDecoder_mha/feedforward.py to ./SubspaceDecoder_mla0-128-0/feedforward.py\n",
      "Copied ./SubspaceDecoder_mha/task_heads.py to ./SubspaceDecoder_mla0-128-0/task_heads.py\n",
      "Copied ./SubspaceDecoder_mha/shared_space_decoder.py to ./SubspaceDecoder_mla0-96-192/shared_space_decoder.py\n",
      "Copied ./SubspaceDecoder_mha/shared_space_config.py to ./SubspaceDecoder_mla0-96-192/shared_space_config.py\n",
      "Copied ./SubspaceDecoder_mha/gla.py to ./SubspaceDecoder_mla0-96-192/gla.py\n",
      "Copied ./SubspaceDecoder_mha/mla.py to ./SubspaceDecoder_mla0-96-192/mla.py\n",
      "Copied ./SubspaceDecoder_mha/feedforward.py to ./SubspaceDecoder_mla0-96-192/feedforward.py\n",
      "Copied ./SubspaceDecoder_mha/task_heads.py to ./SubspaceDecoder_mla0-96-192/task_heads.py\n",
      "Copied ./SubspaceDecoder_mha/shared_space_decoder.py to ./SubspaceDecoder_mla0-0-192/shared_space_decoder.py\n",
      "Copied ./SubspaceDecoder_mha/shared_space_config.py to ./SubspaceDecoder_mla0-0-192/shared_space_config.py\n",
      "Copied ./SubspaceDecoder_mha/gla.py to ./SubspaceDecoder_mla0-0-192/gla.py\n",
      "Copied ./SubspaceDecoder_mha/mla.py to ./SubspaceDecoder_mla0-0-192/mla.py\n",
      "Copied ./SubspaceDecoder_mha/feedforward.py to ./SubspaceDecoder_mla0-0-192/feedforward.py\n",
      "Copied ./SubspaceDecoder_mha/task_heads.py to ./SubspaceDecoder_mla0-0-192/task_heads.py\n",
      "Copied ./SubspaceDecoder_mha/shared_space_decoder.py to ./SubspaceDecoder_mla0-0-0/shared_space_decoder.py\n",
      "Copied ./SubspaceDecoder_mha/shared_space_config.py to ./SubspaceDecoder_mla0-0-0/shared_space_config.py\n",
      "Copied ./SubspaceDecoder_mha/gla.py to ./SubspaceDecoder_mla0-0-0/gla.py\n",
      "Copied ./SubspaceDecoder_mha/mla.py to ./SubspaceDecoder_mla0-0-0/mla.py\n",
      "Copied ./SubspaceDecoder_mha/feedforward.py to ./SubspaceDecoder_mla0-0-0/feedforward.py\n",
      "Copied ./SubspaceDecoder_mha/task_heads.py to ./SubspaceDecoder_mla0-0-0/task_heads.py\n"
     ]
    }
   ],
   "source": [
    "# I have a couple of files that I have copied and edited in the SubspaceDecoder_mha directory\n",
    "# Help to copy them over to the directories from the SOURCE_REPOS dictionary\n",
    "import shutil   \n",
    "files_to_copy = [\n",
    "    \"shared_space_decoder.py\",\n",
    "    \"shared_space_config.py\",\n",
    "    \"gla.py\",\n",
    "    \"mla.py\",\n",
    "    \"feedforward.py\",\n",
    "    \"task_heads.py\"\n",
    "]\n",
    "\n",
    "for repo_id, _ in SOURCE_REPOS.items():\n",
    "    target_dir = f\"./{repo_id.split('/')[-1]}\"\n",
    "    for file_name in files_to_copy:\n",
    "        src_file = os.path.join(\"./SubspaceDecoder_mha\", file_name)\n",
    "        dest_file = os.path.join(target_dir, file_name)\n",
    "        shutil.copy(src_file, dest_file)\n",
    "        print(f\"Copied {src_file} to {dest_file}\")"
   ]
  },
  {
   "cell_type": "code",
   "execution_count": 6,
   "id": "75af0b11",
   "metadata": {},
   "outputs": [
    {
     "ename": "TypeError",
     "evalue": "HfApi.upload_large_folder() got an unexpected keyword argument 'token'",
     "output_type": "error",
     "traceback": [
      "\u001b[0;31m---------------------------------------------------------------------------\u001b[0m",
      "\u001b[0;31mTypeError\u001b[0m                                 Traceback (most recent call last)",
      "Cell \u001b[0;32mIn[6], line 21\u001b[0m\n\u001b[1;32m     19\u001b[0m \u001b[38;5;66;03m# ---- Push folder ----\u001b[39;00m\n\u001b[1;32m     20\u001b[0m target_dir \u001b[38;5;241m=\u001b[39m \u001b[38;5;124mf\u001b[39m\u001b[38;5;124m\"\u001b[39m\u001b[38;5;124m./\u001b[39m\u001b[38;5;132;01m{\u001b[39;00mrepo_id\u001b[38;5;241m.\u001b[39msplit(\u001b[38;5;124m'\u001b[39m\u001b[38;5;124m/\u001b[39m\u001b[38;5;124m'\u001b[39m)[\u001b[38;5;241m-\u001b[39m\u001b[38;5;241m1\u001b[39m]\u001b[38;5;132;01m}\u001b[39;00m\u001b[38;5;124m\"\u001b[39m\n\u001b[0;32m---> 21\u001b[0m \u001b[43mapi\u001b[49m\u001b[38;5;241;43m.\u001b[39;49m\u001b[43mupload_large_folder\u001b[49m\u001b[43m(\u001b[49m\n\u001b[1;32m     22\u001b[0m \u001b[43m    \u001b[49m\u001b[43mfolder_path\u001b[49m\u001b[38;5;241;43m=\u001b[39;49m\u001b[43mtarget_dir\u001b[49m\u001b[43m,\u001b[49m\n\u001b[1;32m     23\u001b[0m \u001b[43m    \u001b[49m\u001b[43mrepo_id\u001b[49m\u001b[38;5;241;43m=\u001b[39;49m\u001b[43mremote_repo_id\u001b[49m\u001b[43m,\u001b[49m\n\u001b[1;32m     24\u001b[0m \u001b[43m    \u001b[49m\u001b[43mtoken\u001b[49m\u001b[38;5;241;43m=\u001b[39;49m\u001b[43mtoken\u001b[49m\u001b[43m,\u001b[49m\n\u001b[1;32m     25\u001b[0m \u001b[43m\u001b[49m\u001b[43m)\u001b[49m\n\u001b[1;32m     27\u001b[0m \u001b[38;5;28mprint\u001b[39m(\u001b[38;5;124mf\u001b[39m\u001b[38;5;124m\"\u001b[39m\u001b[38;5;124mModel files successfully uploaded to https://huggingface.co/\u001b[39m\u001b[38;5;132;01m{\u001b[39;00mrepo_id\u001b[38;5;132;01m}\u001b[39;00m\u001b[38;5;124m\"\u001b[39m)\n",
      "\u001b[0;31mTypeError\u001b[0m: HfApi.upload_large_folder() got an unexpected keyword argument 'token'"
     ]
    }
   ],
   "source": [
    "# Let's now upload the modified files to the respective directories in the SOURCE_REPOS dictionary\n",
    "from huggingface_hub import HfApi, HfFolder, Repository\n",
    "import os\n",
    "\n",
    "# ---- User configuration ----\n",
    "commit_message = \"Update model files\"\n",
    "private = False  # Set True if you want the repo private\n",
    "# ---- Authenticate ----\n",
    "# Make sure you ran: huggingface-cli login (with your token) beforehand\n",
    "api = HfApi()\n",
    "token = HfFolder.get_token()\n",
    "\n",
    "# ---- Create repo if it doesn’t exist ----\n",
    "for repo_id, _ in SOURCE_REPOS.items():\n",
    "    \n",
    "    remote_repo_id = f\"kokolamba/{repo_id.split('/')[-1]}\"\n",
    "    api.create_repo(remote_repo_id, private=private, exist_ok=True)\n",
    "\n",
    "    # ---- Push folder ----\n",
    "    target_dir = f\"./{repo_id.split('/')[-1]}\"\n",
    "    api.upload_large_folder(\n",
    "        folder_path=target_dir,\n",
    "        repo_id=remote_repo_id,\n",
    "        token=token,\n",
    "    )\n",
    "\n",
    "    print(f\"Model files successfully uploaded to https://huggingface.co/{repo_id}\")"
   ]
  },
  {
   "cell_type": "code",
   "execution_count": 4,
   "id": "69d26895",
   "metadata": {},
   "outputs": [
    {
     "data": {
      "text/plain": [
       "16"
      ]
     },
     "execution_count": 4,
     "metadata": {},
     "output_type": "execute_result"
    }
   ],
   "source": [
    "import os\n",
    "\n",
    "os.cpu_count()"
   ]
  },
  {
   "cell_type": "code",
   "execution_count": 13,
   "id": "302057c1",
   "metadata": {},
   "outputs": [
    {
     "name": "stderr",
     "output_type": "stream",
     "text": [
      "/opt/anaconda3/envs/ai-playground/lib/python3.13/site-packages/huggingface_hub/utils/_deprecation.py:131: FutureWarning: 'Repository' (from 'huggingface_hub.repository') is deprecated and will be removed from version '1.0'. Please prefer the http-based alternatives instead. Given its large adoption in legacy code, the complete removal is only planned on next major release.\n",
      "For more details, please read https://huggingface.co/docs/huggingface_hub/concepts/git_vs_http.\n",
      "  warnings.warn(warning_message, FutureWarning)\n",
      "/Users/abdulhakeemadefioye/Desktop/deep-learning/AI-playground/random_experiment/.hf_repos/SubspaceDecoder_mla0-0-0 is already a clone of https://huggingface.co/kokolamba/SubspaceDecoder_mla0-0-0. Make sure you pull the latest changes with `repo.git_pull()`.\n",
      "To https://huggingface.co/kokolamba/SubspaceDecoder_mla0-0-0\n",
      "   a2efb43..d56eb1d  main -> main\n",
      "\n"
     ]
    },
    {
     "name": "stdout",
     "output_type": "stream",
     "text": [
      "✅ Successfully pushed ./SubspaceDecoder_mla0-0-0 → https://huggingface.co/kokolamba/SubspaceDecoder_mla0-0-0\n"
     ]
    }
   ],
   "source": [
    "from huggingface_hub import HfApi, HfFolder, Repository\n",
    "import os, shutil, pathlib\n",
    "\n",
    "# -------------------------------\n",
    "# User config\n",
    "# -------------------------------\n",
    "commit_message = \"Update model files\"\n",
    "private = False\n",
    "token = HfFolder.get_token()\n",
    "\n",
    "# Your local source folders mapped to a readable key\n",
    "SOURCE_REPOS = {\n",
    "    # \"ChrisMcCormick/SubspaceDecoder_mla192-96-0\":   \"mla192-96-0\",\n",
    "    # \"ChrisMcCormick/SubspaceDecoder_mla192-96-192\": \"mla192-96-192\",\n",
    "    # \"ChrisMcCormick/SubspaceDecoder_mla0-128-0\":    \"mla0-128-0\",\n",
    "    # \"ChrisMcCormick/SubspaceDecoder_mla0-96-192\":   \"mla0-96-192\",\n",
    "    # \"ChrisMcCormick/SubspaceDecoder_mla0-0-192\":    \"mla0-0-192\",\n",
    "    \"ChrisMcCormick/SubspaceDecoder_mla0-0-0\":      \"mla0-0-0\",\n",
    "    # \"ChrisMcCormick/SubspaceDecoder_mla192-0-0\":    \"mla192-0-0\",\n",
    "}\n",
    "\n",
    "api = HfApi()\n",
    "\n",
    "# Workspace where we'll clone Hub repos before syncing files in\n",
    "WORKDIR = \".hf_repos\"\n",
    "os.makedirs(WORKDIR, exist_ok=True)\n",
    "\n",
    "def sync_tree(src: str, dst: str):\n",
    "    \"\"\"Copy all files from src -> dst (like rsync). Keeps dst/.git intact.\"\"\"\n",
    "    src_p = pathlib.Path(src)\n",
    "    dst_p = pathlib.Path(dst)\n",
    "    for root, dirs, files in os.walk(src):\n",
    "        rel = pathlib.Path(root).relative_to(src_p)\n",
    "        # Skip .git from the source if it exists\n",
    "        if \".git\" in rel.parts:\n",
    "            continue\n",
    "        # Ensure destination directory exists\n",
    "        (dst_p / rel).mkdir(parents=True, exist_ok=True)\n",
    "        for f in files:\n",
    "            if f == \".gitattributes\":  # let repo manage LFS patterns\n",
    "                continue\n",
    "            shutil.copy2(src_p / rel / f, dst_p / rel / f)\n",
    "\n",
    "for hub_src, _ in SOURCE_REPOS.items():\n",
    "    # Remote repo id under your namespace\n",
    "    remote_repo_id = f\"kokolamba/{hub_src.split('/')[-1]}\"\n",
    "    local_dir = f\"./{hub_src.split('/')[-1]}\"\n",
    "\n",
    "    # Ensure remote exists\n",
    "    api.create_repo(remote_repo_id, private=private, exist_ok=True, token=token)\n",
    "\n",
    "    # Clone (or open) a clean working copy of the remote\n",
    "    clone_dir = os.path.join(WORKDIR, os.path.basename(local_dir))\n",
    "    if not os.path.exists(clone_dir) or not os.path.isdir(os.path.join(clone_dir, \".git\")):\n",
    "        # fresh clone into empty folder\n",
    "        if os.path.exists(clone_dir):\n",
    "            shutil.rmtree(clone_dir)\n",
    "        repo = Repository(local_dir=clone_dir, clone_from=remote_repo_id, use_auth_token=token)\n",
    "    else:\n",
    "        repo = Repository(local_dir=clone_dir, clone_from=remote_repo_id, use_auth_token=token)\n",
    "        try:\n",
    "            repo.git_pull(rebase=True)\n",
    "        except Exception:\n",
    "            # If pull fails (e.g., unrelated history), proceed; push will still work for new commits\n",
    "            pass\n",
    "\n",
    "    # Sync local checkpoint files into the clone\n",
    "    if not os.path.isdir(local_dir):\n",
    "        raise FileNotFoundError(f\"Local source folder not found: {local_dir}\")\n",
    "    sync_tree(local_dir, clone_dir)\n",
    "\n",
    "    # Track large files with LFS and commit\n",
    "    # You can also explicitly track patterns if you want:\n",
    "    # repo.lfs_track([\"*.bin\",\"*.safetensors\",\"*.pt\",\"*.pth\",\"optimizer.pt\"])\n",
    "    repo.git_add(auto_lfs_track=True)\n",
    "\n",
    "    try:\n",
    "        repo.git_commit(commit_message)\n",
    "    except Exception as e:\n",
    "        # Likely \"nothing to commit\" (no changes). Skip push in that case.\n",
    "        msg = str(e).lower()\n",
    "        if \"nothing to commit\" in msg or \"no changes added to commit\" in msg:\n",
    "            print(f\"ℹ️  No changes in {local_dir}; skipping push.\")\n",
    "            continue\n",
    "        else:\n",
    "            raise\n",
    "\n",
    "    # Push to Hub\n",
    "    repo.git_push()\n",
    "    print(f\"✅ Successfully pushed {local_dir} → https://huggingface.co/{remote_repo_id}\")\n"
   ]
  },
  {
   "cell_type": "code",
   "execution_count": 7,
   "id": "6716f5ca",
   "metadata": {},
   "outputs": [
    {
     "data": {
      "application/vnd.jupyter.widget-view+json": {
       "model_id": "4f622f0d6e094de388e9c39eede66ddd",
       "version_major": 2,
       "version_minor": 0
      },
      "text/plain": [
       "config.json: 0.00B [00:00, ?B/s]"
      ]
     },
     "metadata": {},
     "output_type": "display_data"
    },
    {
     "data": {
      "application/vnd.jupyter.widget-view+json": {
       "model_id": "90af768355864247821efe68402ff4ce",
       "version_major": 2,
       "version_minor": 0
      },
      "text/plain": [
       "shared_space_config.py: 0.00B [00:00, ?B/s]"
      ]
     },
     "metadata": {},
     "output_type": "display_data"
    },
    {
     "name": "stderr",
     "output_type": "stream",
     "text": [
      "A new version of the following files was downloaded from https://huggingface.co/kokolamba/SubspaceDecoder_mla192-96-0:\n",
      "- shared_space_config.py\n",
      ". Make sure to double-check they do not contain any added malicious code. To avoid downloading new versions of the code file, you can pin a revision.\n"
     ]
    },
    {
     "data": {
      "application/vnd.jupyter.widget-view+json": {
       "model_id": "2c81f7561ba74921822b2a841366721f",
       "version_major": 2,
       "version_minor": 0
      },
      "text/plain": [
       "task_heads.py: 0.00B [00:00, ?B/s]"
      ]
     },
     "metadata": {},
     "output_type": "display_data"
    },
    {
     "data": {
      "application/vnd.jupyter.widget-view+json": {
       "model_id": "2267701dd45144838a33dd8928142c49",
       "version_major": 2,
       "version_minor": 0
      },
      "text/plain": [
       "shared_space_decoder.py: 0.00B [00:00, ?B/s]"
      ]
     },
     "metadata": {},
     "output_type": "display_data"
    },
    {
     "data": {
      "application/vnd.jupyter.widget-view+json": {
       "model_id": "8ae1a9f15d7a455f8b1e00d549e47de2",
       "version_major": 2,
       "version_minor": 0
      },
      "text/plain": [
       "feedforward.py: 0.00B [00:00, ?B/s]"
      ]
     },
     "metadata": {},
     "output_type": "display_data"
    },
    {
     "name": "stderr",
     "output_type": "stream",
     "text": [
      "A new version of the following files was downloaded from https://huggingface.co/kokolamba/SubspaceDecoder_mla192-96-0:\n",
      "- feedforward.py\n",
      ". Make sure to double-check they do not contain any added malicious code. To avoid downloading new versions of the code file, you can pin a revision.\n"
     ]
    },
    {
     "data": {
      "application/vnd.jupyter.widget-view+json": {
       "model_id": "4949fc8c91a34b1397257f6ad1fbd729",
       "version_major": 2,
       "version_minor": 0
      },
      "text/plain": [
       "mla.py: 0.00B [00:00, ?B/s]"
      ]
     },
     "metadata": {},
     "output_type": "display_data"
    },
    {
     "name": "stderr",
     "output_type": "stream",
     "text": [
      "A new version of the following files was downloaded from https://huggingface.co/kokolamba/SubspaceDecoder_mla192-96-0:\n",
      "- mla.py\n",
      ". Make sure to double-check they do not contain any added malicious code. To avoid downloading new versions of the code file, you can pin a revision.\n",
      "A new version of the following files was downloaded from https://huggingface.co/kokolamba/SubspaceDecoder_mla192-96-0:\n",
      "- shared_space_decoder.py\n",
      "- feedforward.py\n",
      "- mla.py\n",
      ". Make sure to double-check they do not contain any added malicious code. To avoid downloading new versions of the code file, you can pin a revision.\n",
      "A new version of the following files was downloaded from https://huggingface.co/kokolamba/SubspaceDecoder_mla192-96-0:\n",
      "- task_heads.py\n",
      "- shared_space_decoder.py\n",
      ". Make sure to double-check they do not contain any added malicious code. To avoid downloading new versions of the code file, you can pin a revision.\n"
     ]
    },
    {
     "data": {
      "application/vnd.jupyter.widget-view+json": {
       "model_id": "b836636fdd1740018fa7113c94fe48b5",
       "version_major": 2,
       "version_minor": 0
      },
      "text/plain": [
       "pytorch_model.bin:   0%|          | 0.00/434M [00:00<?, ?B/s]"
      ]
     },
     "metadata": {},
     "output_type": "display_data"
    },
    {
     "name": "stdout",
     "output_type": "stream",
     "text": [
      "config.q_shared_dim 192\n",
      "config.q_shared_dim 192\n",
      "config.q_shared_dim 192\n",
      "config.q_shared_dim 192\n",
      "config.q_shared_dim 192\n",
      "config.q_shared_dim 192\n",
      "config.q_shared_dim 192\n",
      "config.q_shared_dim 192\n",
      "config.q_shared_dim 192\n",
      "config.q_shared_dim 192\n",
      "config.q_shared_dim 192\n",
      "config.q_shared_dim 192\n"
     ]
    },
    {
     "data": {
      "application/vnd.jupyter.widget-view+json": {
       "model_id": "bd41f9b736514470a8ae0ae60bc7be7c",
       "version_major": 2,
       "version_minor": 0
      },
      "text/plain": [
       "tokenizer_config.json:   0%|          | 0.00/507 [00:00<?, ?B/s]"
      ]
     },
     "metadata": {},
     "output_type": "display_data"
    },
    {
     "data": {
      "application/vnd.jupyter.widget-view+json": {
       "model_id": "fdf5dd727cb341468e7a69a30c273894",
       "version_major": 2,
       "version_minor": 0
      },
      "text/plain": [
       "vocab.json: 0.00B [00:00, ?B/s]"
      ]
     },
     "metadata": {},
     "output_type": "display_data"
    },
    {
     "data": {
      "application/vnd.jupyter.widget-view+json": {
       "model_id": "bc936ea0ae09492f8314a7bf700a5bbf",
       "version_major": 2,
       "version_minor": 0
      },
      "text/plain": [
       "merges.txt: 0.00B [00:00, ?B/s]"
      ]
     },
     "metadata": {},
     "output_type": "display_data"
    },
    {
     "data": {
      "application/vnd.jupyter.widget-view+json": {
       "model_id": "1e504504721d41099965690457e9dff6",
       "version_major": 2,
       "version_minor": 0
      },
      "text/plain": [
       "tokenizer.json: 0.00B [00:00, ?B/s]"
      ]
     },
     "metadata": {},
     "output_type": "display_data"
    },
    {
     "data": {
      "application/vnd.jupyter.widget-view+json": {
       "model_id": "fc3c0db2a41f4f0189b66557208cb012",
       "version_major": 2,
       "version_minor": 0
      },
      "text/plain": [
       "special_tokens_map.json:   0%|          | 0.00/131 [00:00<?, ?B/s]"
      ]
     },
     "metadata": {},
     "output_type": "display_data"
    },
    {
     "name": "stdout",
     "output_type": "stream",
     "text": [
      "Checkpoint loaded from kokolamba/SubspaceDecoder_mla192-96-0\n"
     ]
    },
    {
     "data": {
      "application/vnd.jupyter.widget-view+json": {
       "model_id": "5c2db7ca2fbc45bfbdcc83b3a8f35c5c",
       "version_major": 2,
       "version_minor": 0
      },
      "text/plain": [
       "config.json: 0.00B [00:00, ?B/s]"
      ]
     },
     "metadata": {},
     "output_type": "display_data"
    },
    {
     "data": {
      "application/vnd.jupyter.widget-view+json": {
       "model_id": "82065701bd5046f4bbbc54e956ad3c66",
       "version_major": 2,
       "version_minor": 0
      },
      "text/plain": [
       "shared_space_config.py: 0.00B [00:00, ?B/s]"
      ]
     },
     "metadata": {},
     "output_type": "display_data"
    },
    {
     "name": "stderr",
     "output_type": "stream",
     "text": [
      "A new version of the following files was downloaded from https://huggingface.co/kokolamba/SubspaceDecoder_mla192-96-192:\n",
      "- shared_space_config.py\n",
      ". Make sure to double-check they do not contain any added malicious code. To avoid downloading new versions of the code file, you can pin a revision.\n"
     ]
    },
    {
     "data": {
      "application/vnd.jupyter.widget-view+json": {
       "model_id": "e63f749e0c4f443cac35caec16c2b8c3",
       "version_major": 2,
       "version_minor": 0
      },
      "text/plain": [
       "task_heads.py: 0.00B [00:00, ?B/s]"
      ]
     },
     "metadata": {},
     "output_type": "display_data"
    },
    {
     "data": {
      "application/vnd.jupyter.widget-view+json": {
       "model_id": "55e87ba7b8de450d98f102f414da1c57",
       "version_major": 2,
       "version_minor": 0
      },
      "text/plain": [
       "shared_space_decoder.py: 0.00B [00:00, ?B/s]"
      ]
     },
     "metadata": {},
     "output_type": "display_data"
    },
    {
     "data": {
      "application/vnd.jupyter.widget-view+json": {
       "model_id": "8e59c51bc1b14513af42fc8849723863",
       "version_major": 2,
       "version_minor": 0
      },
      "text/plain": [
       "feedforward.py: 0.00B [00:00, ?B/s]"
      ]
     },
     "metadata": {},
     "output_type": "display_data"
    },
    {
     "name": "stderr",
     "output_type": "stream",
     "text": [
      "A new version of the following files was downloaded from https://huggingface.co/kokolamba/SubspaceDecoder_mla192-96-192:\n",
      "- feedforward.py\n",
      ". Make sure to double-check they do not contain any added malicious code. To avoid downloading new versions of the code file, you can pin a revision.\n"
     ]
    },
    {
     "data": {
      "application/vnd.jupyter.widget-view+json": {
       "model_id": "cf1c5681e6884edc8c19298663507e9c",
       "version_major": 2,
       "version_minor": 0
      },
      "text/plain": [
       "mla.py: 0.00B [00:00, ?B/s]"
      ]
     },
     "metadata": {},
     "output_type": "display_data"
    },
    {
     "name": "stderr",
     "output_type": "stream",
     "text": [
      "A new version of the following files was downloaded from https://huggingface.co/kokolamba/SubspaceDecoder_mla192-96-192:\n",
      "- mla.py\n",
      ". Make sure to double-check they do not contain any added malicious code. To avoid downloading new versions of the code file, you can pin a revision.\n",
      "A new version of the following files was downloaded from https://huggingface.co/kokolamba/SubspaceDecoder_mla192-96-192:\n",
      "- shared_space_decoder.py\n",
      "- feedforward.py\n",
      "- mla.py\n",
      ". Make sure to double-check they do not contain any added malicious code. To avoid downloading new versions of the code file, you can pin a revision.\n",
      "A new version of the following files was downloaded from https://huggingface.co/kokolamba/SubspaceDecoder_mla192-96-192:\n",
      "- task_heads.py\n",
      "- shared_space_decoder.py\n",
      ". Make sure to double-check they do not contain any added malicious code. To avoid downloading new versions of the code file, you can pin a revision.\n"
     ]
    },
    {
     "data": {
      "application/vnd.jupyter.widget-view+json": {
       "model_id": "8ede18c66cd34bd58a6ff36db10a55bb",
       "version_major": 2,
       "version_minor": 0
      },
      "text/plain": [
       "pytorch_model.bin:   0%|          | 0.00/420M [00:00<?, ?B/s]"
      ]
     },
     "metadata": {},
     "output_type": "display_data"
    },
    {
     "name": "stdout",
     "output_type": "stream",
     "text": [
      "config.q_shared_dim 192\n",
      "config.q_shared_dim 192\n",
      "config.q_shared_dim 192\n",
      "config.q_shared_dim 192\n",
      "config.q_shared_dim 192\n",
      "config.q_shared_dim 192\n",
      "config.q_shared_dim 192\n",
      "config.q_shared_dim 192\n",
      "config.q_shared_dim 192\n",
      "config.q_shared_dim 192\n",
      "config.q_shared_dim 192\n",
      "config.q_shared_dim 192\n"
     ]
    },
    {
     "data": {
      "application/vnd.jupyter.widget-view+json": {
       "model_id": "18fabf4379d14c5fa8395cf06c124d4a",
       "version_major": 2,
       "version_minor": 0
      },
      "text/plain": [
       "tokenizer_config.json:   0%|          | 0.00/507 [00:00<?, ?B/s]"
      ]
     },
     "metadata": {},
     "output_type": "display_data"
    },
    {
     "data": {
      "application/vnd.jupyter.widget-view+json": {
       "model_id": "d7787dd4492747c59753bcc059060e22",
       "version_major": 2,
       "version_minor": 0
      },
      "text/plain": [
       "vocab.json: 0.00B [00:00, ?B/s]"
      ]
     },
     "metadata": {},
     "output_type": "display_data"
    },
    {
     "data": {
      "application/vnd.jupyter.widget-view+json": {
       "model_id": "374060c35522447abc9fa513a5add199",
       "version_major": 2,
       "version_minor": 0
      },
      "text/plain": [
       "merges.txt: 0.00B [00:00, ?B/s]"
      ]
     },
     "metadata": {},
     "output_type": "display_data"
    },
    {
     "data": {
      "application/vnd.jupyter.widget-view+json": {
       "model_id": "db5b97071e4040529584e9eac2b93f6a",
       "version_major": 2,
       "version_minor": 0
      },
      "text/plain": [
       "tokenizer.json: 0.00B [00:00, ?B/s]"
      ]
     },
     "metadata": {},
     "output_type": "display_data"
    },
    {
     "data": {
      "application/vnd.jupyter.widget-view+json": {
       "model_id": "64274acda5c74f19a932a19e607348a8",
       "version_major": 2,
       "version_minor": 0
      },
      "text/plain": [
       "special_tokens_map.json:   0%|          | 0.00/131 [00:00<?, ?B/s]"
      ]
     },
     "metadata": {},
     "output_type": "display_data"
    },
    {
     "name": "stdout",
     "output_type": "stream",
     "text": [
      "Checkpoint loaded from kokolamba/SubspaceDecoder_mla192-96-192\n"
     ]
    },
    {
     "data": {
      "application/vnd.jupyter.widget-view+json": {
       "model_id": "ae2e060167734b1a8c479d30ee4ed11f",
       "version_major": 2,
       "version_minor": 0
      },
      "text/plain": [
       "config.json: 0.00B [00:00, ?B/s]"
      ]
     },
     "metadata": {},
     "output_type": "display_data"
    },
    {
     "data": {
      "application/vnd.jupyter.widget-view+json": {
       "model_id": "19cf00430347479a858529ccf7d86e12",
       "version_major": 2,
       "version_minor": 0
      },
      "text/plain": [
       "shared_space_config.py: 0.00B [00:00, ?B/s]"
      ]
     },
     "metadata": {},
     "output_type": "display_data"
    },
    {
     "name": "stderr",
     "output_type": "stream",
     "text": [
      "A new version of the following files was downloaded from https://huggingface.co/kokolamba/SubspaceDecoder_mla0-128-0:\n",
      "- shared_space_config.py\n",
      ". Make sure to double-check they do not contain any added malicious code. To avoid downloading new versions of the code file, you can pin a revision.\n"
     ]
    },
    {
     "data": {
      "application/vnd.jupyter.widget-view+json": {
       "model_id": "97ba5ff63e2b435c89ec1cdf1027e3ab",
       "version_major": 2,
       "version_minor": 0
      },
      "text/plain": [
       "task_heads.py: 0.00B [00:00, ?B/s]"
      ]
     },
     "metadata": {},
     "output_type": "display_data"
    },
    {
     "data": {
      "application/vnd.jupyter.widget-view+json": {
       "model_id": "8602eaa575424d60be7a074ec225d704",
       "version_major": 2,
       "version_minor": 0
      },
      "text/plain": [
       "shared_space_decoder.py: 0.00B [00:00, ?B/s]"
      ]
     },
     "metadata": {},
     "output_type": "display_data"
    },
    {
     "data": {
      "application/vnd.jupyter.widget-view+json": {
       "model_id": "f5d939c0e244412a83d678066cef068d",
       "version_major": 2,
       "version_minor": 0
      },
      "text/plain": [
       "feedforward.py: 0.00B [00:00, ?B/s]"
      ]
     },
     "metadata": {},
     "output_type": "display_data"
    },
    {
     "name": "stderr",
     "output_type": "stream",
     "text": [
      "A new version of the following files was downloaded from https://huggingface.co/kokolamba/SubspaceDecoder_mla0-128-0:\n",
      "- feedforward.py\n",
      ". Make sure to double-check they do not contain any added malicious code. To avoid downloading new versions of the code file, you can pin a revision.\n"
     ]
    },
    {
     "data": {
      "application/vnd.jupyter.widget-view+json": {
       "model_id": "03d5fa5265a14ad0a638c4db986948db",
       "version_major": 2,
       "version_minor": 0
      },
      "text/plain": [
       "mla.py: 0.00B [00:00, ?B/s]"
      ]
     },
     "metadata": {},
     "output_type": "display_data"
    },
    {
     "name": "stderr",
     "output_type": "stream",
     "text": [
      "A new version of the following files was downloaded from https://huggingface.co/kokolamba/SubspaceDecoder_mla0-128-0:\n",
      "- mla.py\n",
      ". Make sure to double-check they do not contain any added malicious code. To avoid downloading new versions of the code file, you can pin a revision.\n",
      "A new version of the following files was downloaded from https://huggingface.co/kokolamba/SubspaceDecoder_mla0-128-0:\n",
      "- shared_space_decoder.py\n",
      "- feedforward.py\n",
      "- mla.py\n",
      ". Make sure to double-check they do not contain any added malicious code. To avoid downloading new versions of the code file, you can pin a revision.\n",
      "A new version of the following files was downloaded from https://huggingface.co/kokolamba/SubspaceDecoder_mla0-128-0:\n",
      "- task_heads.py\n",
      "- shared_space_decoder.py\n",
      ". Make sure to double-check they do not contain any added malicious code. To avoid downloading new versions of the code file, you can pin a revision.\n"
     ]
    },
    {
     "data": {
      "application/vnd.jupyter.widget-view+json": {
       "model_id": "a6b5af1a100e43288f77035fb66806b6",
       "version_major": 2,
       "version_minor": 0
      },
      "text/plain": [
       "pytorch_model.bin:   0%|          | 0.00/452M [00:00<?, ?B/s]"
      ]
     },
     "metadata": {},
     "output_type": "display_data"
    },
    {
     "data": {
      "application/vnd.jupyter.widget-view+json": {
       "model_id": "3dc60fa843f54a1185fb9dc2af9e59be",
       "version_major": 2,
       "version_minor": 0
      },
      "text/plain": [
       "model.safetensors:   0%|          | 0.00/434M [00:00<?, ?B/s]"
      ]
     },
     "metadata": {},
     "output_type": "display_data"
    },
    {
     "name": "stdout",
     "output_type": "stream",
     "text": [
      "config.q_shared_dim None\n",
      "Using identity for shared projection.\n",
      "config.q_shared_dim None\n",
      "Using identity for shared projection.\n",
      "config.q_shared_dim None\n",
      "Using identity for shared projection.\n",
      "config.q_shared_dim None\n",
      "Using identity for shared projection.\n",
      "config.q_shared_dim None\n",
      "Using identity for shared projection.\n",
      "config.q_shared_dim None\n",
      "Using identity for shared projection.\n",
      "config.q_shared_dim None\n",
      "Using identity for shared projection.\n",
      "config.q_shared_dim None\n",
      "Using identity for shared projection.\n",
      "config.q_shared_dim None\n",
      "Using identity for shared projection.\n",
      "config.q_shared_dim None\n",
      "Using identity for shared projection.\n",
      "config.q_shared_dim None\n",
      "Using identity for shared projection.\n",
      "config.q_shared_dim None\n",
      "Using identity for shared projection.\n"
     ]
    },
    {
     "data": {
      "application/vnd.jupyter.widget-view+json": {
       "model_id": "367692a338014bf5a43537e3dfee6f95",
       "version_major": 2,
       "version_minor": 0
      },
      "text/plain": [
       "tokenizer_config.json:   0%|          | 0.00/507 [00:00<?, ?B/s]"
      ]
     },
     "metadata": {},
     "output_type": "display_data"
    },
    {
     "data": {
      "application/vnd.jupyter.widget-view+json": {
       "model_id": "2dd1b07ddced4a2db7211d183d2b9e12",
       "version_major": 2,
       "version_minor": 0
      },
      "text/plain": [
       "vocab.json: 0.00B [00:00, ?B/s]"
      ]
     },
     "metadata": {},
     "output_type": "display_data"
    },
    {
     "data": {
      "application/vnd.jupyter.widget-view+json": {
       "model_id": "f62cb4fc121c4f439a96d9a256ec838b",
       "version_major": 2,
       "version_minor": 0
      },
      "text/plain": [
       "merges.txt: 0.00B [00:00, ?B/s]"
      ]
     },
     "metadata": {},
     "output_type": "display_data"
    },
    {
     "data": {
      "application/vnd.jupyter.widget-view+json": {
       "model_id": "bddac057b84f49e48dcd3cdec0942de6",
       "version_major": 2,
       "version_minor": 0
      },
      "text/plain": [
       "tokenizer.json: 0.00B [00:00, ?B/s]"
      ]
     },
     "metadata": {},
     "output_type": "display_data"
    },
    {
     "data": {
      "application/vnd.jupyter.widget-view+json": {
       "model_id": "0473136d79a741649dcf569ccfd22119",
       "version_major": 2,
       "version_minor": 0
      },
      "text/plain": [
       "special_tokens_map.json:   0%|          | 0.00/131 [00:00<?, ?B/s]"
      ]
     },
     "metadata": {},
     "output_type": "display_data"
    },
    {
     "name": "stdout",
     "output_type": "stream",
     "text": [
      "Checkpoint loaded from kokolamba/SubspaceDecoder_mla0-128-0\n"
     ]
    },
    {
     "data": {
      "application/vnd.jupyter.widget-view+json": {
       "model_id": "fe42b94acbe44dc28bb027b42eefb632",
       "version_major": 2,
       "version_minor": 0
      },
      "text/plain": [
       "config.json: 0.00B [00:00, ?B/s]"
      ]
     },
     "metadata": {},
     "output_type": "display_data"
    },
    {
     "data": {
      "application/vnd.jupyter.widget-view+json": {
       "model_id": "cb4643fe95f7415f89f0297631566227",
       "version_major": 2,
       "version_minor": 0
      },
      "text/plain": [
       "shared_space_config.py: 0.00B [00:00, ?B/s]"
      ]
     },
     "metadata": {},
     "output_type": "display_data"
    },
    {
     "name": "stderr",
     "output_type": "stream",
     "text": [
      "A new version of the following files was downloaded from https://huggingface.co/kokolamba/SubspaceDecoder_mla0-96-192:\n",
      "- shared_space_config.py\n",
      ". Make sure to double-check they do not contain any added malicious code. To avoid downloading new versions of the code file, you can pin a revision.\n"
     ]
    },
    {
     "data": {
      "application/vnd.jupyter.widget-view+json": {
       "model_id": "5798d8f3111e41cc929c4a68c472d579",
       "version_major": 2,
       "version_minor": 0
      },
      "text/plain": [
       "task_heads.py: 0.00B [00:00, ?B/s]"
      ]
     },
     "metadata": {},
     "output_type": "display_data"
    },
    {
     "data": {
      "application/vnd.jupyter.widget-view+json": {
       "model_id": "d65f86431c884d54add8d321f2369a56",
       "version_major": 2,
       "version_minor": 0
      },
      "text/plain": [
       "shared_space_decoder.py: 0.00B [00:00, ?B/s]"
      ]
     },
     "metadata": {},
     "output_type": "display_data"
    },
    {
     "data": {
      "application/vnd.jupyter.widget-view+json": {
       "model_id": "52f80f7047b048cda349cf8140cc110b",
       "version_major": 2,
       "version_minor": 0
      },
      "text/plain": [
       "feedforward.py: 0.00B [00:00, ?B/s]"
      ]
     },
     "metadata": {},
     "output_type": "display_data"
    },
    {
     "name": "stderr",
     "output_type": "stream",
     "text": [
      "A new version of the following files was downloaded from https://huggingface.co/kokolamba/SubspaceDecoder_mla0-96-192:\n",
      "- feedforward.py\n",
      ". Make sure to double-check they do not contain any added malicious code. To avoid downloading new versions of the code file, you can pin a revision.\n"
     ]
    },
    {
     "data": {
      "application/vnd.jupyter.widget-view+json": {
       "model_id": "18f2df2259bd4474ba7b5f66389e4611",
       "version_major": 2,
       "version_minor": 0
      },
      "text/plain": [
       "mla.py: 0.00B [00:00, ?B/s]"
      ]
     },
     "metadata": {},
     "output_type": "display_data"
    },
    {
     "name": "stderr",
     "output_type": "stream",
     "text": [
      "A new version of the following files was downloaded from https://huggingface.co/kokolamba/SubspaceDecoder_mla0-96-192:\n",
      "- mla.py\n",
      ". Make sure to double-check they do not contain any added malicious code. To avoid downloading new versions of the code file, you can pin a revision.\n",
      "A new version of the following files was downloaded from https://huggingface.co/kokolamba/SubspaceDecoder_mla0-96-192:\n",
      "- shared_space_decoder.py\n",
      "- feedforward.py\n",
      "- mla.py\n",
      ". Make sure to double-check they do not contain any added malicious code. To avoid downloading new versions of the code file, you can pin a revision.\n",
      "A new version of the following files was downloaded from https://huggingface.co/kokolamba/SubspaceDecoder_mla0-96-192:\n",
      "- task_heads.py\n",
      "- shared_space_decoder.py\n",
      ". Make sure to double-check they do not contain any added malicious code. To avoid downloading new versions of the code file, you can pin a revision.\n"
     ]
    },
    {
     "data": {
      "application/vnd.jupyter.widget-view+json": {
       "model_id": "a01beebf3c8e4a6a80c44d107aafd8d9",
       "version_major": 2,
       "version_minor": 0
      },
      "text/plain": [
       "pytorch_model.bin:   0%|          | 0.00/434M [00:00<?, ?B/s]"
      ]
     },
     "metadata": {},
     "output_type": "display_data"
    },
    {
     "name": "stdout",
     "output_type": "stream",
     "text": [
      "config.q_shared_dim None\n",
      "Using identity for shared projection.\n",
      "config.q_shared_dim None\n",
      "Using identity for shared projection.\n",
      "config.q_shared_dim None\n",
      "Using identity for shared projection.\n",
      "config.q_shared_dim None\n",
      "Using identity for shared projection.\n",
      "config.q_shared_dim None\n",
      "Using identity for shared projection.\n",
      "config.q_shared_dim None\n",
      "Using identity for shared projection.\n",
      "config.q_shared_dim None\n",
      "Using identity for shared projection.\n",
      "config.q_shared_dim None\n",
      "Using identity for shared projection.\n",
      "config.q_shared_dim None\n",
      "Using identity for shared projection.\n",
      "config.q_shared_dim None\n",
      "Using identity for shared projection.\n",
      "config.q_shared_dim None\n",
      "Using identity for shared projection.\n",
      "config.q_shared_dim None\n",
      "Using identity for shared projection.\n"
     ]
    },
    {
     "data": {
      "application/vnd.jupyter.widget-view+json": {
       "model_id": "8a3f0a8080984cd793fb68eaebb61e05",
       "version_major": 2,
       "version_minor": 0
      },
      "text/plain": [
       "tokenizer_config.json:   0%|          | 0.00/507 [00:00<?, ?B/s]"
      ]
     },
     "metadata": {},
     "output_type": "display_data"
    },
    {
     "data": {
      "application/vnd.jupyter.widget-view+json": {
       "model_id": "d317f126962d4c339bba598065147ed7",
       "version_major": 2,
       "version_minor": 0
      },
      "text/plain": [
       "vocab.json: 0.00B [00:00, ?B/s]"
      ]
     },
     "metadata": {},
     "output_type": "display_data"
    },
    {
     "data": {
      "application/vnd.jupyter.widget-view+json": {
       "model_id": "3c0291985f0649eda94dc4242e73a3ff",
       "version_major": 2,
       "version_minor": 0
      },
      "text/plain": [
       "merges.txt: 0.00B [00:00, ?B/s]"
      ]
     },
     "metadata": {},
     "output_type": "display_data"
    },
    {
     "data": {
      "application/vnd.jupyter.widget-view+json": {
       "model_id": "99228738589f441cb3c81b26085d51d9",
       "version_major": 2,
       "version_minor": 0
      },
      "text/plain": [
       "tokenizer.json: 0.00B [00:00, ?B/s]"
      ]
     },
     "metadata": {},
     "output_type": "display_data"
    },
    {
     "data": {
      "application/vnd.jupyter.widget-view+json": {
       "model_id": "a20d724e9d084234ba3c45aa0dc43665",
       "version_major": 2,
       "version_minor": 0
      },
      "text/plain": [
       "special_tokens_map.json:   0%|          | 0.00/131 [00:00<?, ?B/s]"
      ]
     },
     "metadata": {},
     "output_type": "display_data"
    },
    {
     "name": "stdout",
     "output_type": "stream",
     "text": [
      "Checkpoint loaded from kokolamba/SubspaceDecoder_mla0-96-192\n"
     ]
    },
    {
     "data": {
      "application/vnd.jupyter.widget-view+json": {
       "model_id": "125df13312c141a9b1d47ed1a6c0416c",
       "version_major": 2,
       "version_minor": 0
      },
      "text/plain": [
       "config.json: 0.00B [00:00, ?B/s]"
      ]
     },
     "metadata": {},
     "output_type": "display_data"
    },
    {
     "data": {
      "application/vnd.jupyter.widget-view+json": {
       "model_id": "2b0c8c645bfd45caab76aff9909364b5",
       "version_major": 2,
       "version_minor": 0
      },
      "text/plain": [
       "shared_space_config.py: 0.00B [00:00, ?B/s]"
      ]
     },
     "metadata": {},
     "output_type": "display_data"
    },
    {
     "name": "stderr",
     "output_type": "stream",
     "text": [
      "A new version of the following files was downloaded from https://huggingface.co/kokolamba/SubspaceDecoder_mla0-0-192:\n",
      "- shared_space_config.py\n",
      ". Make sure to double-check they do not contain any added malicious code. To avoid downloading new versions of the code file, you can pin a revision.\n"
     ]
    },
    {
     "data": {
      "application/vnd.jupyter.widget-view+json": {
       "model_id": "9a9f05a6bc154f7aaae5d786f6a84f7a",
       "version_major": 2,
       "version_minor": 0
      },
      "text/plain": [
       "task_heads.py: 0.00B [00:00, ?B/s]"
      ]
     },
     "metadata": {},
     "output_type": "display_data"
    },
    {
     "data": {
      "application/vnd.jupyter.widget-view+json": {
       "model_id": "73668caea0a64dffbd0844e564b55f29",
       "version_major": 2,
       "version_minor": 0
      },
      "text/plain": [
       "model.safetensors:   0%|          | 0.00/420M [00:00<?, ?B/s]"
      ]
     },
     "metadata": {},
     "output_type": "display_data"
    },
    {
     "data": {
      "application/vnd.jupyter.widget-view+json": {
       "model_id": "ddd34047bbd54f408fbcd5307ec475b6",
       "version_major": 2,
       "version_minor": 0
      },
      "text/plain": [
       "shared_space_decoder.py: 0.00B [00:00, ?B/s]"
      ]
     },
     "metadata": {},
     "output_type": "display_data"
    },
    {
     "data": {
      "application/vnd.jupyter.widget-view+json": {
       "model_id": "c73515e00b1a4c17b69be0f10ebb7c36",
       "version_major": 2,
       "version_minor": 0
      },
      "text/plain": [
       "feedforward.py: 0.00B [00:00, ?B/s]"
      ]
     },
     "metadata": {},
     "output_type": "display_data"
    },
    {
     "name": "stderr",
     "output_type": "stream",
     "text": [
      "A new version of the following files was downloaded from https://huggingface.co/kokolamba/SubspaceDecoder_mla0-0-192:\n",
      "- feedforward.py\n",
      ". Make sure to double-check they do not contain any added malicious code. To avoid downloading new versions of the code file, you can pin a revision.\n"
     ]
    },
    {
     "data": {
      "application/vnd.jupyter.widget-view+json": {
       "model_id": "1ac4adc46d2441ef86cacbefbfad5e19",
       "version_major": 2,
       "version_minor": 0
      },
      "text/plain": [
       "mla.py: 0.00B [00:00, ?B/s]"
      ]
     },
     "metadata": {},
     "output_type": "display_data"
    },
    {
     "name": "stderr",
     "output_type": "stream",
     "text": [
      "A new version of the following files was downloaded from https://huggingface.co/kokolamba/SubspaceDecoder_mla0-0-192:\n",
      "- mla.py\n",
      ". Make sure to double-check they do not contain any added malicious code. To avoid downloading new versions of the code file, you can pin a revision.\n",
      "A new version of the following files was downloaded from https://huggingface.co/kokolamba/SubspaceDecoder_mla0-0-192:\n",
      "- shared_space_decoder.py\n",
      "- feedforward.py\n",
      "- mla.py\n",
      ". Make sure to double-check they do not contain any added malicious code. To avoid downloading new versions of the code file, you can pin a revision.\n",
      "A new version of the following files was downloaded from https://huggingface.co/kokolamba/SubspaceDecoder_mla0-0-192:\n",
      "- task_heads.py\n",
      "- shared_space_decoder.py\n",
      ". Make sure to double-check they do not contain any added malicious code. To avoid downloading new versions of the code file, you can pin a revision.\n"
     ]
    },
    {
     "data": {
      "application/vnd.jupyter.widget-view+json": {
       "model_id": "e1c5e09cb38e408895b514a9caabbe6e",
       "version_major": 2,
       "version_minor": 0
      },
      "text/plain": [
       "pytorch_model.bin:   0%|          | 0.00/480M [00:00<?, ?B/s]"
      ]
     },
     "metadata": {},
     "output_type": "display_data"
    },
    {
     "name": "stdout",
     "output_type": "stream",
     "text": [
      "config.q_shared_dim None\n",
      "Using identity for shared projection.\n",
      "config.q_shared_dim None\n",
      "Using identity for shared projection.\n",
      "config.q_shared_dim None\n",
      "Using identity for shared projection.\n",
      "config.q_shared_dim None\n",
      "Using identity for shared projection.\n",
      "config.q_shared_dim None\n",
      "Using identity for shared projection.\n",
      "config.q_shared_dim None\n",
      "Using identity for shared projection.\n",
      "config.q_shared_dim None\n",
      "Using identity for shared projection.\n",
      "config.q_shared_dim None\n",
      "Using identity for shared projection.\n",
      "config.q_shared_dim None\n",
      "Using identity for shared projection.\n",
      "config.q_shared_dim None\n",
      "Using identity for shared projection.\n",
      "config.q_shared_dim None\n",
      "Using identity for shared projection.\n",
      "config.q_shared_dim None\n",
      "Using identity for shared projection.\n"
     ]
    },
    {
     "data": {
      "application/vnd.jupyter.widget-view+json": {
       "model_id": "0347b0f553404d6293d83b7a01d850ab",
       "version_major": 2,
       "version_minor": 0
      },
      "text/plain": [
       "tokenizer_config.json:   0%|          | 0.00/507 [00:00<?, ?B/s]"
      ]
     },
     "metadata": {},
     "output_type": "display_data"
    },
    {
     "data": {
      "application/vnd.jupyter.widget-view+json": {
       "model_id": "532952d2c48649c3a89cecda76ce1e6c",
       "version_major": 2,
       "version_minor": 0
      },
      "text/plain": [
       "vocab.json: 0.00B [00:00, ?B/s]"
      ]
     },
     "metadata": {},
     "output_type": "display_data"
    },
    {
     "data": {
      "application/vnd.jupyter.widget-view+json": {
       "model_id": "d8b3216ad376433d99b05904ab3d5692",
       "version_major": 2,
       "version_minor": 0
      },
      "text/plain": [
       "merges.txt: 0.00B [00:00, ?B/s]"
      ]
     },
     "metadata": {},
     "output_type": "display_data"
    },
    {
     "data": {
      "application/vnd.jupyter.widget-view+json": {
       "model_id": "9b25b8cd7f91487ea04ef7741cc125c9",
       "version_major": 2,
       "version_minor": 0
      },
      "text/plain": [
       "tokenizer.json: 0.00B [00:00, ?B/s]"
      ]
     },
     "metadata": {},
     "output_type": "display_data"
    },
    {
     "data": {
      "application/vnd.jupyter.widget-view+json": {
       "model_id": "a54f8a73835a4ac088a869be34c2571c",
       "version_major": 2,
       "version_minor": 0
      },
      "text/plain": [
       "special_tokens_map.json:   0%|          | 0.00/131 [00:00<?, ?B/s]"
      ]
     },
     "metadata": {},
     "output_type": "display_data"
    },
    {
     "name": "stdout",
     "output_type": "stream",
     "text": [
      "Checkpoint loaded from kokolamba/SubspaceDecoder_mla0-0-192\n",
      "Failed to load model from kokolamba/SubspaceDecoder_mla0-0-0: Unrecognized model in kokolamba/SubspaceDecoder_mla0-0-0. Should have a `model_type` key in its config.json, or contain one of the following strings in its name: albert, align, altclip, aria, aria_text, audio-spectrogram-transformer, autoformer, aya_vision, bamba, bark, bart, beit, bert, bert-generation, big_bird, bigbird_pegasus, biogpt, bit, bitnet, blenderbot, blenderbot-small, blip, blip-2, blip_2_qformer, bloom, bridgetower, bros, camembert, canine, chameleon, chinese_clip, chinese_clip_vision_model, clap, clip, clip_text_model, clip_vision_model, clipseg, clvp, code_llama, codegen, cohere, cohere2, colpali, conditional_detr, convbert, convnext, convnextv2, cpmant, csm, ctrl, cvt, d_fine, dab-detr, dac, data2vec-audio, data2vec-text, data2vec-vision, dbrx, deberta, deberta-v2, decision_transformer, deepseek_v3, deformable_detr, deit, depth_anything, depth_pro, deta, detr, diffllama, dinat, dinov2, dinov2_with_registers, distilbert, donut-swin, dpr, dpt, efficientformer, efficientnet, electra, emu3, encodec, encoder-decoder, ernie, ernie_m, esm, falcon, falcon_mamba, fastspeech2_conformer, flaubert, flava, fnet, focalnet, fsmt, funnel, fuyu, gemma, gemma2, gemma3, gemma3_text, git, glm, glm4, glpn, got_ocr2, gpt-sw3, gpt2, gpt_bigcode, gpt_neo, gpt_neox, gpt_neox_japanese, gptj, gptsan-japanese, granite, granite_speech, granitemoe, granitemoehybrid, granitemoeshared, granitevision, graphormer, grounding-dino, groupvit, helium, hgnet_v2, hiera, hubert, ibert, idefics, idefics2, idefics3, idefics3_vision, ijepa, imagegpt, informer, instructblip, instructblipvideo, internvl, internvl_vision, jamba, janus, jetmoe, jukebox, kosmos-2, layoutlm, layoutlmv2, layoutlmv3, led, levit, lilt, llama, llama4, llama4_text, llava, llava_next, llava_next_video, llava_onevision, longformer, longt5, luke, lxmert, m2m_100, mamba, mamba2, marian, markuplm, mask2former, maskformer, maskformer-swin, mbart, mctct, mega, megatron-bert, mgp-str, mimi, mistral, mistral3, mixtral, mlcd, mllama, mobilebert, mobilenet_v1, mobilenet_v2, mobilevit, mobilevitv2, modernbert, moonshine, moshi, mpnet, mpt, mra, mt5, musicgen, musicgen_melody, mvp, nat, nemotron, nezha, nllb-moe, nougat, nystromformer, olmo, olmo2, olmoe, omdet-turbo, oneformer, open-llama, openai-gpt, opt, owlv2, owlvit, paligemma, patchtsmixer, patchtst, pegasus, pegasus_x, perceiver, persimmon, phi, phi3, phi4_multimodal, phimoe, pix2struct, pixtral, plbart, poolformer, pop2piano, prompt_depth_anything, prophetnet, pvt, pvt_v2, qdqbert, qwen2, qwen2_5_omni, qwen2_5_vl, qwen2_5_vl_text, qwen2_audio, qwen2_audio_encoder, qwen2_moe, qwen2_vl, qwen2_vl_text, qwen3, qwen3_moe, rag, realm, recurrent_gemma, reformer, regnet, rembert, resnet, retribert, roberta, roberta-prelayernorm, roc_bert, roformer, rt_detr, rt_detr_resnet, rt_detr_v2, rwkv, sam, sam_hq, sam_hq_vision_model, sam_vision_model, seamless_m4t, seamless_m4t_v2, segformer, seggpt, sew, sew-d, shieldgemma2, siglip, siglip2, siglip_vision_model, smolvlm, smolvlm_vision, speech-encoder-decoder, speech_to_text, speech_to_text_2, speecht5, splinter, squeezebert, stablelm, starcoder2, superglue, superpoint, swiftformer, swin, swin2sr, swinv2, switch_transformers, t5, table-transformer, tapas, textnet, time_series_transformer, timesfm, timesformer, timm_backbone, timm_wrapper, trajectory_transformer, transfo-xl, trocr, tvlt, tvp, udop, umt5, unispeech, unispeech-sat, univnet, upernet, van, video_llava, videomae, vilt, vipllava, vision-encoder-decoder, vision-text-dual-encoder, visual_bert, vit, vit_hybrid, vit_mae, vit_msn, vitdet, vitmatte, vitpose, vitpose_backbone, vits, vivit, wav2vec2, wav2vec2-bert, wav2vec2-conformer, wavlm, whisper, xclip, xglm, xlm, xlm-prophetnet, xlm-roberta, xlm-roberta-xl, xlnet, xmod, yolos, yoso, zamba, zamba2, zoedepth\n"
     ]
    },
    {
     "data": {
      "application/vnd.jupyter.widget-view+json": {
       "model_id": "7fa13f36186748829c9d70fe60a183d2",
       "version_major": 2,
       "version_minor": 0
      },
      "text/plain": [
       "config.json: 0.00B [00:00, ?B/s]"
      ]
     },
     "metadata": {},
     "output_type": "display_data"
    },
    {
     "data": {
      "application/vnd.jupyter.widget-view+json": {
       "model_id": "09db6cf412614351ab40d52d64367d43",
       "version_major": 2,
       "version_minor": 0
      },
      "text/plain": [
       "shared_space_config.py: 0.00B [00:00, ?B/s]"
      ]
     },
     "metadata": {},
     "output_type": "display_data"
    },
    {
     "name": "stderr",
     "output_type": "stream",
     "text": [
      "A new version of the following files was downloaded from https://huggingface.co/kokolamba/SubspaceDecoder_mla192-0-0:\n",
      "- shared_space_config.py\n",
      ". Make sure to double-check they do not contain any added malicious code. To avoid downloading new versions of the code file, you can pin a revision.\n"
     ]
    },
    {
     "data": {
      "application/vnd.jupyter.widget-view+json": {
       "model_id": "e2b939512aa645dcba15fc43ff7772d5",
       "version_major": 2,
       "version_minor": 0
      },
      "text/plain": [
       "task_heads.py: 0.00B [00:00, ?B/s]"
      ]
     },
     "metadata": {},
     "output_type": "display_data"
    },
    {
     "data": {
      "application/vnd.jupyter.widget-view+json": {
       "model_id": "078e4a6c798c43768af62afbc0a97f2b",
       "version_major": 2,
       "version_minor": 0
      },
      "text/plain": [
       "shared_space_decoder.py: 0.00B [00:00, ?B/s]"
      ]
     },
     "metadata": {},
     "output_type": "display_data"
    },
    {
     "data": {
      "application/vnd.jupyter.widget-view+json": {
       "model_id": "632cfe41f9ca4d1cb07321efcd674afd",
       "version_major": 2,
       "version_minor": 0
      },
      "text/plain": [
       "feedforward.py: 0.00B [00:00, ?B/s]"
      ]
     },
     "metadata": {},
     "output_type": "display_data"
    },
    {
     "name": "stderr",
     "output_type": "stream",
     "text": [
      "A new version of the following files was downloaded from https://huggingface.co/kokolamba/SubspaceDecoder_mla192-0-0:\n",
      "- feedforward.py\n",
      ". Make sure to double-check they do not contain any added malicious code. To avoid downloading new versions of the code file, you can pin a revision.\n"
     ]
    },
    {
     "data": {
      "application/vnd.jupyter.widget-view+json": {
       "model_id": "a93bfdd65bad4f1f83b6d5bc81b2000b",
       "version_major": 2,
       "version_minor": 0
      },
      "text/plain": [
       "mla.py: 0.00B [00:00, ?B/s]"
      ]
     },
     "metadata": {},
     "output_type": "display_data"
    },
    {
     "name": "stderr",
     "output_type": "stream",
     "text": [
      "A new version of the following files was downloaded from https://huggingface.co/kokolamba/SubspaceDecoder_mla192-0-0:\n",
      "- mla.py\n",
      ". Make sure to double-check they do not contain any added malicious code. To avoid downloading new versions of the code file, you can pin a revision.\n",
      "A new version of the following files was downloaded from https://huggingface.co/kokolamba/SubspaceDecoder_mla192-0-0:\n",
      "- shared_space_decoder.py\n",
      "- feedforward.py\n",
      "- mla.py\n",
      ". Make sure to double-check they do not contain any added malicious code. To avoid downloading new versions of the code file, you can pin a revision.\n",
      "A new version of the following files was downloaded from https://huggingface.co/kokolamba/SubspaceDecoder_mla192-0-0:\n",
      "- task_heads.py\n",
      "- shared_space_decoder.py\n",
      ". Make sure to double-check they do not contain any added malicious code. To avoid downloading new versions of the code file, you can pin a revision.\n"
     ]
    },
    {
     "data": {
      "application/vnd.jupyter.widget-view+json": {
       "model_id": "ef53de25e5eb411b9b03735ad2f15240",
       "version_major": 2,
       "version_minor": 0
      },
      "text/plain": [
       "pytorch_model.bin:   0%|          | 0.00/480M [00:00<?, ?B/s]"
      ]
     },
     "metadata": {},
     "output_type": "display_data"
    },
    {
     "name": "stdout",
     "output_type": "stream",
     "text": [
      "config.q_shared_dim 192\n",
      "config.q_shared_dim 192\n",
      "config.q_shared_dim 192\n",
      "config.q_shared_dim 192\n",
      "config.q_shared_dim 192\n",
      "config.q_shared_dim 192\n",
      "config.q_shared_dim 192\n",
      "config.q_shared_dim 192\n",
      "config.q_shared_dim 192\n",
      "config.q_shared_dim 192\n",
      "config.q_shared_dim 192\n",
      "config.q_shared_dim 192\n"
     ]
    },
    {
     "data": {
      "application/vnd.jupyter.widget-view+json": {
       "model_id": "8d5b3c18557a466aa3740a92ff30d7d8",
       "version_major": 2,
       "version_minor": 0
      },
      "text/plain": [
       "tokenizer_config.json:   0%|          | 0.00/507 [00:00<?, ?B/s]"
      ]
     },
     "metadata": {},
     "output_type": "display_data"
    },
    {
     "data": {
      "application/vnd.jupyter.widget-view+json": {
       "model_id": "4d5e7ecd1b8241e698b8d0ed08e25d0f",
       "version_major": 2,
       "version_minor": 0
      },
      "text/plain": [
       "vocab.json: 0.00B [00:00, ?B/s]"
      ]
     },
     "metadata": {},
     "output_type": "display_data"
    },
    {
     "data": {
      "application/vnd.jupyter.widget-view+json": {
       "model_id": "9d017ace1d6b4173b654b380a52e5925",
       "version_major": 2,
       "version_minor": 0
      },
      "text/plain": [
       "merges.txt: 0.00B [00:00, ?B/s]"
      ]
     },
     "metadata": {},
     "output_type": "display_data"
    },
    {
     "data": {
      "application/vnd.jupyter.widget-view+json": {
       "model_id": "9ff119f4c9b44e8f9c0e2df82f46a0f1",
       "version_major": 2,
       "version_minor": 0
      },
      "text/plain": [
       "tokenizer.json: 0.00B [00:00, ?B/s]"
      ]
     },
     "metadata": {},
     "output_type": "display_data"
    },
    {
     "data": {
      "application/vnd.jupyter.widget-view+json": {
       "model_id": "b136b06eaf874e1381d2cc174f535159",
       "version_major": 2,
       "version_minor": 0
      },
      "text/plain": [
       "special_tokens_map.json:   0%|          | 0.00/131 [00:00<?, ?B/s]"
      ]
     },
     "metadata": {},
     "output_type": "display_data"
    },
    {
     "name": "stdout",
     "output_type": "stream",
     "text": [
      "Checkpoint loaded from kokolamba/SubspaceDecoder_mla192-0-0\n",
      "config.q_shared_dim None\n",
      "Using identity for shared projection.\n",
      "config.q_shared_dim None\n",
      "Using identity for shared projection.\n",
      "config.q_shared_dim None\n",
      "Using identity for shared projection.\n",
      "config.q_shared_dim None\n",
      "Using identity for shared projection.\n",
      "config.q_shared_dim None\n",
      "Using identity for shared projection.\n",
      "config.q_shared_dim None\n",
      "Using identity for shared projection.\n",
      "config.q_shared_dim None\n",
      "Using identity for shared projection.\n",
      "config.q_shared_dim None\n",
      "Using identity for shared projection.\n",
      "config.q_shared_dim None\n",
      "Using identity for shared projection.\n",
      "config.q_shared_dim None\n",
      "Using identity for shared projection.\n",
      "config.q_shared_dim None\n",
      "Using identity for shared projection.\n",
      "config.q_shared_dim None\n",
      "Using identity for shared projection.\n",
      "Checkpoint loaded from kokolamba/SubspaceDecoder_mha\n"
     ]
    },
    {
     "data": {
      "application/vnd.jupyter.widget-view+json": {
       "model_id": "16f83578917945c79bb231aca9abf13e",
       "version_major": 2,
       "version_minor": 0
      },
      "text/plain": [
       "model.safetensors:   0%|          | 0.00/480M [00:00<?, ?B/s]"
      ]
     },
     "metadata": {},
     "output_type": "display_data"
    }
   ],
   "source": [
    "# Create a list of the model checkpoints from kokolamba\n",
    "model_checkpoints = [\n",
    "    \"kokolamba/SubspaceDecoder_mla192-96-0\",\n",
    "    \"kokolamba/SubspaceDecoder_mla192-96-192\",\n",
    "    \"kokolamba/SubspaceDecoder_mla0-128-0\",\n",
    "    \"kokolamba/SubspaceDecoder_mla0-96-192\",\n",
    "    \"kokolamba/SubspaceDecoder_mla0-0-192\",\n",
    "    \"kokolamba/SubspaceDecoder_mla0-0-0\",\n",
    "    \"kokolamba/SubspaceDecoder_mla192-0-0\",\n",
    "    \"kokolamba/SubspaceDecoder_mha\"\n",
    "]\n",
    "list_of_failed_models = []\n",
    "\n",
    "# Verify that we can load each model checkpoint\n",
    "for model_path in model_checkpoints:\n",
    "    try:\n",
    "        model, tokenizer = load_checkpoint(model_path)\n",
    "    except Exception as e:\n",
    "        list_of_failed_models.append(model_path)\n",
    "        print(f\"Failed to load model from {model_path}: {e}\")"
   ]
  },
  {
   "cell_type": "code",
   "execution_count": 8,
   "id": "4f092834",
   "metadata": {},
   "outputs": [
    {
     "name": "stdout",
     "output_type": "stream",
     "text": [
      "The following models failed to load:\n",
      "- kokolamba/SubspaceDecoder_mla0-0-0\n"
     ]
    }
   ],
   "source": [
    "# print out the list of failed models\n",
    "if list_of_failed_models:\n",
    "    print(\"The following models failed to load:\")\n",
    "    for failed_model in list_of_failed_models:\n",
    "        print(f\"- {failed_model}\")"
   ]
  },
  {
   "cell_type": "code",
   "execution_count": 14,
   "id": "8b57e746",
   "metadata": {},
   "outputs": [
    {
     "data": {
      "application/vnd.jupyter.widget-view+json": {
       "model_id": "36e2df3d4de64becb5c9794a0165f319",
       "version_major": 2,
       "version_minor": 0
      },
      "text/plain": [
       "shared_space_config.py: 0.00B [00:00, ?B/s]"
      ]
     },
     "metadata": {},
     "output_type": "display_data"
    },
    {
     "name": "stderr",
     "output_type": "stream",
     "text": [
      "A new version of the following files was downloaded from https://huggingface.co/kokolamba/SubspaceDecoder_mla0-0-0:\n",
      "- shared_space_config.py\n",
      ". Make sure to double-check they do not contain any added malicious code. To avoid downloading new versions of the code file, you can pin a revision.\n"
     ]
    },
    {
     "data": {
      "application/vnd.jupyter.widget-view+json": {
       "model_id": "d5cfce7f42c449aca4bf0434afc16882",
       "version_major": 2,
       "version_minor": 0
      },
      "text/plain": [
       "task_heads.py: 0.00B [00:00, ?B/s]"
      ]
     },
     "metadata": {},
     "output_type": "display_data"
    },
    {
     "data": {
      "application/vnd.jupyter.widget-view+json": {
       "model_id": "f7fed50068214b0486fc96c1b9ac6d64",
       "version_major": 2,
       "version_minor": 0
      },
      "text/plain": [
       "shared_space_decoder.py: 0.00B [00:00, ?B/s]"
      ]
     },
     "metadata": {},
     "output_type": "display_data"
    },
    {
     "data": {
      "application/vnd.jupyter.widget-view+json": {
       "model_id": "678ad4b233044ad7a2468a7b5bedd32d",
       "version_major": 2,
       "version_minor": 0
      },
      "text/plain": [
       "feedforward.py: 0.00B [00:00, ?B/s]"
      ]
     },
     "metadata": {},
     "output_type": "display_data"
    },
    {
     "name": "stderr",
     "output_type": "stream",
     "text": [
      "A new version of the following files was downloaded from https://huggingface.co/kokolamba/SubspaceDecoder_mla0-0-0:\n",
      "- feedforward.py\n",
      ". Make sure to double-check they do not contain any added malicious code. To avoid downloading new versions of the code file, you can pin a revision.\n"
     ]
    },
    {
     "data": {
      "application/vnd.jupyter.widget-view+json": {
       "model_id": "ecabff1a83924bdc8e02769e97b1ca65",
       "version_major": 2,
       "version_minor": 0
      },
      "text/plain": [
       "mla.py: 0.00B [00:00, ?B/s]"
      ]
     },
     "metadata": {},
     "output_type": "display_data"
    },
    {
     "name": "stderr",
     "output_type": "stream",
     "text": [
      "A new version of the following files was downloaded from https://huggingface.co/kokolamba/SubspaceDecoder_mla0-0-0:\n",
      "- mla.py\n",
      ". Make sure to double-check they do not contain any added malicious code. To avoid downloading new versions of the code file, you can pin a revision.\n",
      "A new version of the following files was downloaded from https://huggingface.co/kokolamba/SubspaceDecoder_mla0-0-0:\n",
      "- shared_space_decoder.py\n",
      "- feedforward.py\n",
      "- mla.py\n",
      ". Make sure to double-check they do not contain any added malicious code. To avoid downloading new versions of the code file, you can pin a revision.\n",
      "A new version of the following files was downloaded from https://huggingface.co/kokolamba/SubspaceDecoder_mla0-0-0:\n",
      "- task_heads.py\n",
      "- shared_space_decoder.py\n",
      ". Make sure to double-check they do not contain any added malicious code. To avoid downloading new versions of the code file, you can pin a revision.\n"
     ]
    },
    {
     "data": {
      "application/vnd.jupyter.widget-view+json": {
       "model_id": "c765bc303c214dbe80e2d6c3bb283d4c",
       "version_major": 2,
       "version_minor": 0
      },
      "text/plain": [
       "checkpoint-3000/pytorch_model.bin:   0%|          | 0.00/494M [00:00<?, ?B/s]"
      ]
     },
     "metadata": {},
     "output_type": "display_data"
    },
    {
     "name": "stdout",
     "output_type": "stream",
     "text": [
      "config.q_shared_dim None\n",
      "Using identity for shared projection.\n",
      "config.q_shared_dim None\n",
      "Using identity for shared projection.\n",
      "config.q_shared_dim None\n",
      "Using identity for shared projection.\n",
      "config.q_shared_dim None\n",
      "Using identity for shared projection.\n",
      "config.q_shared_dim None\n",
      "Using identity for shared projection.\n",
      "config.q_shared_dim None\n",
      "Using identity for shared projection.\n",
      "config.q_shared_dim None\n",
      "Using identity for shared projection.\n",
      "config.q_shared_dim None\n",
      "Using identity for shared projection.\n",
      "config.q_shared_dim None\n",
      "Using identity for shared projection.\n",
      "config.q_shared_dim None\n",
      "Using identity for shared projection.\n",
      "config.q_shared_dim None\n",
      "Using identity for shared projection.\n",
      "config.q_shared_dim None\n",
      "Using identity for shared projection.\n"
     ]
    }
   ],
   "source": [
    "# Best checkpoint for kokolamba/SubspaceDecoder_mla0-0-0 is checkpoint-3000\n",
    "# How to load checkpoint-3000 in kokolamba/SubspaceDecoder_mla0-0-0\n",
    "from transformers import AutoModelForCausalLM, AutoTokenizer\n",
    "\n",
    "model = AutoModelForCausalLM.from_pretrained(\"kokolamba/SubspaceDecoder_mla0-0-0\", trust_remote_code=True, subfolder=\"checkpoint-3000\")"
   ]
  },
  {
   "cell_type": "code",
   "execution_count": null,
   "id": "8440200b",
   "metadata": {},
   "outputs": [],
   "source": []
  }
 ],
 "metadata": {
  "kernelspec": {
   "display_name": "ai-playground",
   "language": "python",
   "name": "python3"
  },
  "language_info": {
   "codemirror_mode": {
    "name": "ipython",
    "version": 3
   },
   "file_extension": ".py",
   "mimetype": "text/x-python",
   "name": "python",
   "nbconvert_exporter": "python",
   "pygments_lexer": "ipython3",
   "version": "3.13.2"
  }
 },
 "nbformat": 4,
 "nbformat_minor": 5
}
